{
 "cells": [
  {
   "cell_type": "code",
   "execution_count": 6,
   "metadata": {},
   "outputs": [],
   "source": [
    "import geopandas as gpd\n",
    "import classes.entropycalculator as ec\n",
    "\n",
    "import gc\n",
    "\n",
    "gemeenten = gpd.read_parquet('data/gemeenten.parquet')\n",
    "\n",
    "gm_list = ['Eindhoven', 'Amsterdam', 'Rotterdam', 'Utrecht', 'Groningen', 'Maastricht', 'Leeuwarden', 'Arnhem', 'Zwolle', \"'s-Gravenhage\"]"
   ]
  },
  {
   "cell_type": "code",
   "execution_count": 7,
   "metadata": {},
   "outputs": [
    {
     "name": "stdout",
     "output_type": "stream",
     "text": [
      "Processing 's-Gravenhage...\n"
     ]
    }
   ],
   "source": [
    "# get the categorised amenities\n",
    "# amenities_ams = ec.return_categorised_amenities(ams.geometry.values[0])\n",
    "\n",
    "for gm in gm_list:\n",
    "    print(f'Processing {gm}...')\n",
    "    amenities_gdf = ec.return_categorised_amenities(gemeenten[gemeenten['gemeentenaam'] == gm].geometry.values[0])\n",
    "    amenities_gdf.loc[:, 'points_tup'] = amenities_gdf.loc[:, 'geometry'].apply(lambda x: (x.x, x.y))\n",
    "    \n",
    "    # save the amenities\n",
    "    amenities_gdf.to_parquet(f'data/gm_amenities/amenities_{gm}.parquet')\n",
    "    \n",
    "    del amenities_gdf\n",
    "    gc.collect()"
   ]
  }
 ],
 "metadata": {
  "kernelspec": {
   "display_name": "scriptie_38",
   "language": "python",
   "name": "python3"
  },
  "language_info": {
   "codemirror_mode": {
    "name": "ipython",
    "version": 3
   },
   "file_extension": ".py",
   "mimetype": "text/x-python",
   "name": "python",
   "nbconvert_exporter": "python",
   "pygments_lexer": "ipython3",
   "version": "3.8.19"
  }
 },
 "nbformat": 4,
 "nbformat_minor": 2
}
