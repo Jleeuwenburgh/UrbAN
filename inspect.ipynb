{
 "cells": [
  {
   "cell_type": "code",
   "execution_count": 3,
   "metadata": {},
   "outputs": [
    {
     "data": {
      "text/html": [
       "<div>\n",
       "<style scoped>\n",
       "    .dataframe tbody tr th:only-of-type {\n",
       "        vertical-align: middle;\n",
       "    }\n",
       "\n",
       "    .dataframe tbody tr th {\n",
       "        vertical-align: top;\n",
       "    }\n",
       "\n",
       "    .dataframe thead th {\n",
       "        text-align: right;\n",
       "    }\n",
       "</style>\n",
       "<table border=\"1\" class=\"dataframe\">\n",
       "  <thead>\n",
       "    <tr style=\"text-align: right;\">\n",
       "      <th></th>\n",
       "      <th>primary tag</th>\n",
       "      <th>secondary tag</th>\n",
       "      <th>L0 category</th>\n",
       "      <th>L1 category</th>\n",
       "    </tr>\n",
       "  </thead>\n",
       "  <tbody>\n",
       "    <tr>\n",
       "      <th>0</th>\n",
       "      <td>amenity</td>\n",
       "      <td>kindergarten</td>\n",
       "      <td>Education</td>\n",
       "      <td>Early education</td>\n",
       "    </tr>\n",
       "    <tr>\n",
       "      <th>1</th>\n",
       "      <td>amenity</td>\n",
       "      <td>school</td>\n",
       "      <td>Education</td>\n",
       "      <td>Primary and secondary education</td>\n",
       "    </tr>\n",
       "    <tr>\n",
       "      <th>2</th>\n",
       "      <td>amenity</td>\n",
       "      <td>university</td>\n",
       "      <td>Education</td>\n",
       "      <td>Higher education</td>\n",
       "    </tr>\n",
       "    <tr>\n",
       "      <th>3</th>\n",
       "      <td>amenity</td>\n",
       "      <td>language_school</td>\n",
       "      <td>Education</td>\n",
       "      <td>Cultural education</td>\n",
       "    </tr>\n",
       "  </tbody>\n",
       "</table>\n",
       "</div>"
      ],
      "text/plain": [
       "  primary tag    secondary tag L0 category                      L1 category\n",
       "0     amenity     kindergarten   Education                  Early education\n",
       "1     amenity           school   Education  Primary and secondary education\n",
       "2     amenity       university   Education                 Higher education\n",
       "3     amenity  language_school   Education               Cultural education"
      ]
     },
     "execution_count": 3,
     "metadata": {},
     "output_type": "execute_result"
    }
   ],
   "source": [
    "import geopandas as gpd\n",
    "import pandas as pd\n",
    "from spatialentropy import leibovici_entropy, altieri_entropy\n",
    "\n",
    "\n",
    "categorisation = pd.read_excel('data/categorisation.xlsx')\n",
    "categorisation.head(4)"
   ]
  },
  {
   "cell_type": "code",
   "execution_count": 23,
   "metadata": {},
   "outputs": [
    {
     "data": {
      "text/plain": [
       "L0 category\n",
       "Education                           5\n",
       "Entertainment, arts and culture     6\n",
       "Facilities                          1\n",
       "Financial                           2\n",
       "Healthcare                          9\n",
       "Places of worship                   1\n",
       "Private transportation              4\n",
       "Public service                      5\n",
       "Public transportation               3\n",
       "Shopping                           12\n",
       "Sports                              4\n",
       "Sustenance                          4\n",
       "Waste management                    1\n",
       "Name: L1 category, dtype: int64"
      ]
     },
     "execution_count": 23,
     "metadata": {},
     "output_type": "execute_result"
    }
   ],
   "source": [
    "# show how many L1 categories there are under each L0 category\n",
    "categorisation.groupby('L0 category')['L1 category'].nunique()"
   ]
  },
  {
   "cell_type": "code",
   "execution_count": 24,
   "metadata": {},
   "outputs": [
    {
     "data": {
      "text/plain": [
       "53"
      ]
     },
     "execution_count": 24,
     "metadata": {},
     "output_type": "execute_result"
    }
   ],
   "source": [
    "# how many distinct L1 categories are there?\n",
    "len(categorisation['L1 category'].unique())"
   ]
  }
 ],
 "metadata": {
  "kernelspec": {
   "display_name": "scriptie_38",
   "language": "python",
   "name": "python3"
  },
  "language_info": {
   "codemirror_mode": {
    "name": "ipython",
    "version": 3
   },
   "file_extension": ".py",
   "mimetype": "text/x-python",
   "name": "python",
   "nbconvert_exporter": "python",
   "pygments_lexer": "ipython3",
   "version": "3.8.19"
  }
 },
 "nbformat": 4,
 "nbformat_minor": 2
}
