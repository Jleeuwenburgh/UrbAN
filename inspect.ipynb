{
 "cells": [
  {
   "cell_type": "code",
   "execution_count": 2,
   "metadata": {},
   "outputs": [],
   "source": [
    "import geopandas as gpd\n",
    "\n",
    "gm = gpd.read_parquet('data/gemeenten_concatenated.parquet')\n",
    "wk = gpd.read_parquet('data/wijken_concatenated.parquet')\n",
    "bu = gpd.read_parquet('data/buurten_concatenated.parquet')"
   ]
  },
  {
   "cell_type": "code",
   "execution_count": 6,
   "metadata": {},
   "outputs": [
    {
     "data": {
      "text/plain": [
       "array(['gemeentecode', 'gemeentenaam', 'H2O', 'OAD', 'STED', 'BEV_DICHTH',\n",
       "       'AANT_INW', 'AANT_MAN', 'AANT_VROUW', 'P_00_14_JR', 'P_15_24_JR',\n",
       "       'P_25_44_JR', 'P_45_64_JR', 'P_65_EO_JR', 'P_ONGEHUWD', 'P_GEHUWD',\n",
       "       'P_GESCHEID', 'P_VERWEDUW', 'AANTAL_HH', 'P_EENP_HH', 'P_HH_Z_K',\n",
       "       'P_HH_M_K', 'GEM_HH_GR', 'P_NL_ALL', 'P_EUR_ALL', 'P_NEU_ALL',\n",
       "       'P_GEBNL_NL', 'P_GEBNL_EU', 'P_GEBNL_NE', 'P_GEBBL_EU',\n",
       "       'P_GEBBL_NE', 'OPP_TOT', 'OPP_LAND', 'OPP_WATER', 'JRSTATCODE',\n",
       "       'JAAR', 'layer', 'path', 'geometry', 'total_amenities_0',\n",
       "       'L0_shannon_0', 'L1_shannon_0', 'total_amenities_1',\n",
       "       'L0_shannon_1', 'L1_shannon_1', 'total_amenities_2',\n",
       "       'L0_shannon_2', 'L1_shannon_2', 'RE_L0_0', 'RE_L1_0', 'RE_L0_1',\n",
       "       'RE_L1_1', 'RE_L0_2', 'RE_L1_2', 'L0_altieri_0', 'L1_altieri_0',\n",
       "       'L0_altieri_1', 'L1_altieri_1', 'L0_altieri_2', 'L1_altieri_2'],\n",
       "      dtype=object)"
      ]
     },
     "execution_count": 6,
     "metadata": {},
     "output_type": "execute_result"
    }
   ],
   "source": [
    "gm.columns.values"
   ]
  }
 ],
 "metadata": {
  "kernelspec": {
   "display_name": "scriptie_38",
   "language": "python",
   "name": "python3"
  },
  "language_info": {
   "codemirror_mode": {
    "name": "ipython",
    "version": 3
   },
   "file_extension": ".py",
   "mimetype": "text/x-python",
   "name": "python",
   "nbconvert_exporter": "python",
   "pygments_lexer": "ipython3",
   "version": "3.8.19"
  }
 },
 "nbformat": 4,
 "nbformat_minor": 2
}
