{
 "cells": [
  {
   "cell_type": "code",
   "execution_count": 5,
   "metadata": {},
   "outputs": [
    {
     "data": {
      "text/plain": [
       "13943"
      ]
     },
     "execution_count": 5,
     "metadata": {},
     "output_type": "execute_result"
    }
   ],
   "source": [
    "import geopandas as gpd\n",
    "import numpy as np\n",
    "\n",
    "buurten = gpd.read_parquet('data/buurten.parquet')\n",
    "len(buurten)"
   ]
  },
  {
   "cell_type": "code",
   "execution_count": 6,
   "metadata": {},
   "outputs": [
    {
     "data": {
      "text/html": [
       "<div>\n",
       "<style scoped>\n",
       "    .dataframe tbody tr th:only-of-type {\n",
       "        vertical-align: middle;\n",
       "    }\n",
       "\n",
       "    .dataframe tbody tr th {\n",
       "        vertical-align: top;\n",
       "    }\n",
       "\n",
       "    .dataframe thead th {\n",
       "        text-align: right;\n",
       "    }\n",
       "</style>\n",
       "<table border=\"1\" class=\"dataframe\">\n",
       "  <thead>\n",
       "    <tr style=\"text-align: right;\">\n",
       "      <th></th>\n",
       "      <th>buurtcode</th>\n",
       "      <th>buurtnaam</th>\n",
       "      <th>wijkcode</th>\n",
       "      <th>gemeentecode</th>\n",
       "      <th>gemeentenaam</th>\n",
       "      <th>IND_WBI</th>\n",
       "      <th>H2O</th>\n",
       "      <th>POSTCODE</th>\n",
       "      <th>DEK_PERC</th>\n",
       "      <th>OAD</th>\n",
       "      <th>...</th>\n",
       "      <th>P_GEBBL_EU</th>\n",
       "      <th>P_GEBBL_NE</th>\n",
       "      <th>OPP_TOT</th>\n",
       "      <th>OPP_LAND</th>\n",
       "      <th>OPP_WATER</th>\n",
       "      <th>JRSTATCODE</th>\n",
       "      <th>JAAR</th>\n",
       "      <th>layer</th>\n",
       "      <th>path</th>\n",
       "      <th>geometry</th>\n",
       "    </tr>\n",
       "  </thead>\n",
       "  <tbody>\n",
       "    <tr>\n",
       "      <th>0</th>\n",
       "      <td>BU00140000</td>\n",
       "      <td>Binnenstad-Noord</td>\n",
       "      <td>WK001400</td>\n",
       "      <td>GM0014</td>\n",
       "      <td>Groningen</td>\n",
       "      <td>1.0</td>\n",
       "      <td>NEE</td>\n",
       "      <td>9712</td>\n",
       "      <td>1.0</td>\n",
       "      <td>6865.0</td>\n",
       "      <td>...</td>\n",
       "      <td>15.0</td>\n",
       "      <td>11.0</td>\n",
       "      <td>39.0</td>\n",
       "      <td>37.0</td>\n",
       "      <td>2.0</td>\n",
       "      <td>2023BU00140000</td>\n",
       "      <td>2023</td>\n",
       "      <td>2023 — buurt_2023_v1zw</td>\n",
       "      <td>\\\\cbsp.nl\\Productie\\primair\\TOP\\Werk\\KWB_buurt...</td>\n",
       "      <td>POLYGON ((6.56757 53.22222, 6.56840 53.22200, ...</td>\n",
       "    </tr>\n",
       "    <tr>\n",
       "      <th>1</th>\n",
       "      <td>BU00140001</td>\n",
       "      <td>Binnenstad-Zuid</td>\n",
       "      <td>WK001400</td>\n",
       "      <td>GM0014</td>\n",
       "      <td>Groningen</td>\n",
       "      <td>1.0</td>\n",
       "      <td>NEE</td>\n",
       "      <td>9711</td>\n",
       "      <td>1.0</td>\n",
       "      <td>6586.0</td>\n",
       "      <td>...</td>\n",
       "      <td>16.0</td>\n",
       "      <td>12.0</td>\n",
       "      <td>59.0</td>\n",
       "      <td>55.0</td>\n",
       "      <td>4.0</td>\n",
       "      <td>2023BU00140001</td>\n",
       "      <td>2023</td>\n",
       "      <td>2023 — buurt_2023_v1zw</td>\n",
       "      <td>\\\\cbsp.nl\\Productie\\primair\\TOP\\Werk\\KWB_buurt...</td>\n",
       "      <td>POLYGON ((6.56893 53.21835, 6.56952 53.21832, ...</td>\n",
       "    </tr>\n",
       "    <tr>\n",
       "      <th>2</th>\n",
       "      <td>BU00140002</td>\n",
       "      <td>Binnenstad-Oost</td>\n",
       "      <td>WK001400</td>\n",
       "      <td>GM0014</td>\n",
       "      <td>Groningen</td>\n",
       "      <td>1.0</td>\n",
       "      <td>NEE</td>\n",
       "      <td>9711</td>\n",
       "      <td>3.0</td>\n",
       "      <td>6264.0</td>\n",
       "      <td>...</td>\n",
       "      <td>14.0</td>\n",
       "      <td>14.0</td>\n",
       "      <td>29.0</td>\n",
       "      <td>27.0</td>\n",
       "      <td>2.0</td>\n",
       "      <td>2023BU00140002</td>\n",
       "      <td>2023</td>\n",
       "      <td>2023 — buurt_2023_v1zw</td>\n",
       "      <td>\\\\cbsp.nl\\Productie\\primair\\TOP\\Werk\\KWB_buurt...</td>\n",
       "      <td>POLYGON ((6.57004 53.22351, 6.57417 53.22139, ...</td>\n",
       "    </tr>\n",
       "  </tbody>\n",
       "</table>\n",
       "<p>3 rows × 45 columns</p>\n",
       "</div>"
      ],
      "text/plain": [
       "    buurtcode         buurtnaam  wijkcode gemeentecode gemeentenaam  IND_WBI  \\\n",
       "0  BU00140000  Binnenstad-Noord  WK001400       GM0014    Groningen      1.0   \n",
       "1  BU00140001   Binnenstad-Zuid  WK001400       GM0014    Groningen      1.0   \n",
       "2  BU00140002   Binnenstad-Oost  WK001400       GM0014    Groningen      1.0   \n",
       "\n",
       "   H2O POSTCODE  DEK_PERC     OAD  ...  P_GEBBL_EU  P_GEBBL_NE  OPP_TOT  \\\n",
       "0  NEE     9712       1.0  6865.0  ...        15.0        11.0     39.0   \n",
       "1  NEE     9711       1.0  6586.0  ...        16.0        12.0     59.0   \n",
       "2  NEE     9711       3.0  6264.0  ...        14.0        14.0     29.0   \n",
       "\n",
       "   OPP_LAND  OPP_WATER      JRSTATCODE  JAAR                   layer  \\\n",
       "0      37.0        2.0  2023BU00140000  2023  2023 — buurt_2023_v1zw   \n",
       "1      55.0        4.0  2023BU00140001  2023  2023 — buurt_2023_v1zw   \n",
       "2      27.0        2.0  2023BU00140002  2023  2023 — buurt_2023_v1zw   \n",
       "\n",
       "                                                path  \\\n",
       "0  \\\\cbsp.nl\\Productie\\primair\\TOP\\Werk\\KWB_buurt...   \n",
       "1  \\\\cbsp.nl\\Productie\\primair\\TOP\\Werk\\KWB_buurt...   \n",
       "2  \\\\cbsp.nl\\Productie\\primair\\TOP\\Werk\\KWB_buurt...   \n",
       "\n",
       "                                            geometry  \n",
       "0  POLYGON ((6.56757 53.22222, 6.56840 53.22200, ...  \n",
       "1  POLYGON ((6.56893 53.21835, 6.56952 53.21832, ...  \n",
       "2  POLYGON ((6.57004 53.22351, 6.57417 53.22139, ...  \n",
       "\n",
       "[3 rows x 45 columns]"
      ]
     },
     "execution_count": 6,
     "metadata": {},
     "output_type": "execute_result"
    }
   ],
   "source": [
    "buurten.head(3)"
   ]
  },
  {
   "cell_type": "code",
   "execution_count": 7,
   "metadata": {},
   "outputs": [
    {
     "name": "stdout",
     "output_type": "stream",
     "text": [
      "wrote part 0 with 1395 rows to data/buurten_parts/buurten_0.parquet\n",
      "wrote part 1 with 1395 rows to data/buurten_parts/buurten_1.parquet\n",
      "wrote part 2 with 1395 rows to data/buurten_parts/buurten_2.parquet\n",
      "wrote part 3 with 1394 rows to data/buurten_parts/buurten_3.parquet\n",
      "wrote part 4 with 1394 rows to data/buurten_parts/buurten_4.parquet\n",
      "wrote part 5 with 1394 rows to data/buurten_parts/buurten_5.parquet\n",
      "wrote part 6 with 1394 rows to data/buurten_parts/buurten_6.parquet\n",
      "wrote part 7 with 1394 rows to data/buurten_parts/buurten_7.parquet\n",
      "wrote part 8 with 1394 rows to data/buurten_parts/buurten_8.parquet\n",
      "wrote part 9 with 1394 rows to data/buurten_parts/buurten_9.parquet\n"
     ]
    }
   ],
   "source": [
    "# split into 10 parts\n",
    "buurten = np.array_split(buurten, 10)\n",
    "\n",
    "for i, g in enumerate(buurten):\n",
    "    g.to_parquet(f'data/buurten_parts/buurten_{i}.parquet')\n",
    "    print(f\"wrote part {i} with {len(g)} rows to data/buurten_parts/buurten_{i}.parquet\")\n"
   ]
  }
 ],
 "metadata": {
  "kernelspec": {
   "display_name": "scriptie_38",
   "language": "python",
   "name": "python3"
  },
  "language_info": {
   "codemirror_mode": {
    "name": "ipython",
    "version": 3
   },
   "file_extension": ".py",
   "mimetype": "text/x-python",
   "name": "python",
   "nbconvert_exporter": "python",
   "pygments_lexer": "ipython3",
   "version": "3.8.19"
  }
 },
 "nbformat": 4,
 "nbformat_minor": 2
}
