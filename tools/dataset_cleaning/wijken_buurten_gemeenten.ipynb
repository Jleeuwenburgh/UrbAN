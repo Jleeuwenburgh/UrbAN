{
 "cells": [
  {
   "cell_type": "code",
   "execution_count": 4,
   "metadata": {},
   "outputs": [
    {
     "data": {
      "text/plain": [
       "{'DXF': 'rw',\n",
       " 'CSV': 'raw',\n",
       " 'OpenFileGDB': 'raw',\n",
       " 'ESRIJSON': 'r',\n",
       " 'ESRI Shapefile': 'raw',\n",
       " 'FlatGeobuf': 'raw',\n",
       " 'GeoJSON': 'raw',\n",
       " 'GeoJSONSeq': 'raw',\n",
       " 'GPKG': 'raw',\n",
       " 'GML': 'rw',\n",
       " 'OGR_GMT': 'rw',\n",
       " 'GPX': 'rw',\n",
       " 'Idrisi': 'r',\n",
       " 'MapInfo File': 'raw',\n",
       " 'DGN': 'raw',\n",
       " 'PCIDSK': 'raw',\n",
       " 'OGR_PDS': 'r',\n",
       " 'S57': 'r',\n",
       " 'SQLite': 'raw',\n",
       " 'TopoJSON': 'r'}"
      ]
     },
     "execution_count": 4,
     "metadata": {},
     "output_type": "execute_result"
    }
   ],
   "source": [
    "import geopandas as gpd\n",
    "import fiona; "
   ]
  },
  {
   "cell_type": "code",
   "execution_count": 5,
   "metadata": {},
   "outputs": [],
   "source": [
    "gdf_all = gpd.read_file('../Data\\cbs\\wijkenbuurten_2023.gpkg')\n",
    "gdf_wijken = gpd.read_file('../Data/cbs/wijken/wijken_2023_v1.shp')"
   ]
  },
  {
   "cell_type": "code",
   "execution_count": 7,
   "metadata": {},
   "outputs": [],
   "source": [
    "# get wijknamen from wijkcodes\n",
    "def get_wijknaam(wijkcode):\n",
    "    return gdf_wijken.loc[gdf_wijken['WK_CODE'] == wijkcode, 'WK_NAAM'].values[0]\n",
    "\n",
    "gdf_all['wijknaam'] = gdf_all['wijkcode'].apply(get_wijknaam)\n",
    "\n",
    "\n",
    "# reorder columns so that wijknaam is after wijkcode\n",
    "cols_all = gdf_all.columns.tolist()\n",
    "i_wijknaam = cols_all.index('wijknaam')\n",
    "i_wijkcode = cols_all.index('wijkcode')\n",
    "cols_all = cols_all[0:i_wijkcode + 1] + ['wijknaam'] + cols_all[i_wijkcode + 1:i_wijknaam]\n",
    "\n",
    "gdf_all = gdf_all[cols_all]\n",
    "\n",
    "# drop all rows where water is JA\n",
    "gdf_all = gdf_all[gdf_all['water'] == 'NEE']\n",
    "\n",
    "# drop rows where aantal_inwoners is 0 or -99999999.0\n",
    "gdf_all = gdf_all[gdf_all['aantal_inwoners'] > 0]\n",
    "\n",
    "\n",
    "irrelevant_columns = ['indelingswijziging_wijken_en_buurten', 'water', 'meest_voorkomende_postcode', 'dekkingspercentage', 'jrstatcode', 'jaar']\n",
    "\n",
    "# drop irrelevant columns\n",
    "gdf_all = gdf_all.drop(columns=irrelevant_columns)\n",
    "\n",
    "gdf_all.reset_index(drop=True, inplace=True)"
   ]
  },
  {
   "cell_type": "code",
   "execution_count": 11,
   "metadata": {},
   "outputs": [],
   "source": [
    "gdf_all.to_file('Data/cbs/wijkenbuurten_2023_clean.gpkg', driver='GPKG')"
   ]
  }
 ],
 "metadata": {
  "kernelspec": {
   "display_name": "scriptie_38",
   "language": "python",
   "name": "python3"
  },
  "language_info": {
   "codemirror_mode": {
    "name": "ipython",
    "version": 3
   },
   "file_extension": ".py",
   "mimetype": "text/x-python",
   "name": "python",
   "nbconvert_exporter": "python",
   "pygments_lexer": "ipython3",
   "version": "3.8.19"
  }
 },
 "nbformat": 4,
 "nbformat_minor": 2
}
