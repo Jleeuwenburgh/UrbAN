{
 "cells": [
  {
   "cell_type": "code",
   "execution_count": 15,
   "metadata": {},
   "outputs": [],
   "source": [
    "import geopandas as gpd\n",
    "\n",
    "# full file to compare other files to\n",
    "fullgdf = gpd.read_parquet('../../data/wijkenbuurten_2023_clean.parquet')\n",
    "\n",
    "# individual files\n",
    "wijken = gpd.read_file('../../data/cbs_shp/Wijken/wijken_2023_V1.shp')\n",
    "buurten = gpd.read_file('../../data/cbs_shp/Buurten/buurten_2023_V1.shp')\n",
    "gemeenten = gpd.read_file('../../data/cbs_shp/Gemeenten/gemeenten_2023_V1.shp')"
   ]
  },
  {
   "cell_type": "code",
   "execution_count": 16,
   "metadata": {},
   "outputs": [],
   "source": [
    "# Replace column names to match other data\n",
    "replacements = {\n",
    "    \"BU_CODE\": \"buurtcode\",\n",
    "    \"BU_NAAM\": \"buurtnaam\",\n",
    "    \"WK_CODE\": \"wijkcode\",\n",
    "    \"WK_NAAM\": \"wijknaam\",\n",
    "    \"GM_CODE\": \"gemeentecode\",\n",
    "    \"GM_NAAM\": \"gemeentenaam\",\n",
    "}\n",
    "\n",
    "wijken.columns = [replacements.get(col, col) for col in wijken.columns]\n",
    "buurten.columns = [replacements.get(col, col) for col in buurten.columns]\n",
    "gemeenten.columns = [replacements.get(col, col) for col in gemeenten.columns]"
   ]
  },
  {
   "cell_type": "code",
   "execution_count": 17,
   "metadata": {},
   "outputs": [],
   "source": [
    "# Set correct crs\n",
    "wijken = wijken.to_crs(fullgdf.crs)\n",
    "buurten = buurten.to_crs(fullgdf.crs)\n",
    "gemeenten = gemeenten.to_crs(fullgdf.crs)"
   ]
  },
  {
   "cell_type": "code",
   "execution_count": 18,
   "metadata": {},
   "outputs": [
    {
     "name": "stdout",
     "output_type": "stream",
     "text": [
      "Removed 110 rows from wijken\n",
      "Removed 572 rows from buurten\n",
      "Removed 82 rows from gemeenten\n"
     ]
    }
   ],
   "source": [
    "# remove rows that are not in the full file\n",
    "count_w, count_b, count_g = len(wijken), len(buurten), len(gemeenten)\n",
    "\n",
    "wijken = wijken[wijken.wijkcode.isin(fullgdf.wijkcode)]\n",
    "buurten = buurten[buurten.buurtcode.isin(fullgdf.buurtcode)]\n",
    "gemeenten = gemeenten[gemeenten.gemeentecode.isin(fullgdf.gemeentecode)]\n",
    "\n",
    "# remove rows where H2O is 'ja'\n",
    "wijken = wijken[wijken.H2O != 'JA']\n",
    "buurten = buurten[buurten.H2O != 'JA']\n",
    "gemeenten = gemeenten[gemeenten.H2O != 'JA']\n",
    "\n",
    "print(f\"Removed {count_w - len(wijken)} rows from wijken\")\n",
    "print(f\"Removed {count_b - len(buurten)} rows from buurten\")\n",
    "print(f\"Removed {count_g - len(gemeenten)} rows from gemeenten\")"
   ]
  },
  {
   "cell_type": "code",
   "execution_count": 19,
   "metadata": {},
   "outputs": [],
   "source": [
    "# reset indices\n",
    "wijken.reset_index(drop=True, inplace=True)\n",
    "buurten.reset_index(drop=True, inplace=True)\n",
    "gemeenten.reset_index(drop=True, inplace=True)"
   ]
  },
  {
   "cell_type": "code",
   "execution_count": 20,
   "metadata": {},
   "outputs": [],
   "source": [
    "# save files\n",
    "wijken.to_parquet('../../data/wijken.parquet')\n",
    "buurten.to_parquet('../../data/buurten.parquet')\n",
    "gemeenten.to_parquet('../../data/gemeenten.parquet')"
   ]
  }
 ],
 "metadata": {
  "kernelspec": {
   "display_name": "scriptie_38",
   "language": "python",
   "name": "python3"
  },
  "language_info": {
   "codemirror_mode": {
    "name": "ipython",
    "version": 3
   },
   "file_extension": ".py",
   "mimetype": "text/x-python",
   "name": "python",
   "nbconvert_exporter": "python",
   "pygments_lexer": "ipython3",
   "version": "3.8.19"
  }
 },
 "nbformat": 4,
 "nbformat_minor": 2
}
