{
 "cells": [
  {
   "cell_type": "code",
   "execution_count": 2,
   "metadata": {},
   "outputs": [],
   "source": [
    "import geopandas as gpd\n",
    "import shapely\n",
    "import fiona\n",
    "\n"
   ]
  },
  {
   "cell_type": "code",
   "execution_count": 3,
   "metadata": {},
   "outputs": [],
   "source": [
    "gdf_all = gpd.read_file('../Data\\cbs\\wijkenbuurten_2023_clean.gpkg')\n",
    "gdf_all.to_crs(epsg=4326, inplace=True)\n",
    "\n",
    "gdf_all.to_parquet('../Data\\cbs\\wijkenbuurten_2023_clean.parquet')"
   ]
  },
  {
   "cell_type": "markdown",
   "metadata": {},
   "source": [
    "## buurten"
   ]
  },
  {
   "cell_type": "code",
   "execution_count": 6,
   "metadata": {},
   "outputs": [],
   "source": [
    "gdf_buurten = gdf_all.loc[:, ['buurtcode', 'buurtnaam', 'geometry']]\n",
    "\n",
    "gdf_buurten.to_parquet('../Data/cbs/geos/buurten_geos.parquet')"
   ]
  },
  {
   "cell_type": "markdown",
   "metadata": {},
   "source": [
    "## Wijken"
   ]
  },
  {
   "cell_type": "code",
   "execution_count": 7,
   "metadata": {},
   "outputs": [],
   "source": [
    "gdf_wijken = gpd.read_file('../Data\\cbs\\wijken/wijken_2023_v1.shp')\n",
    "\n",
    "# # remove rows where H2O is JA\n",
    "gdf_wijken = gdf_wijken[gdf_wijken['H2O'] != 'JA']\n",
    "\n",
    "gdf_wijken = gdf_wijken.loc[:, ['WK_CODE', 'WK_NAAM', 'geometry']]\n",
    "\n",
    "# replace column names\n",
    "gdf_wijken.columns = ['wijkcode', 'wijknaam', 'geometry']\n",
    "\n",
    "# remove wijken not present in gdf_all\n",
    "gdf_wijken = gdf_wijken[gdf_wijken['wijkcode'].isin(gdf_all['wijkcode'])]\n",
    "\n",
    "# correct coordinate system\n",
    "gdf_wijken.to_crs(epsg=4326, inplace=True)\n",
    "\n",
    "\n",
    "gdf_wijken.reset_index(drop=True, inplace=True)\n",
    "\n",
    "\n",
    "gdf_wijken.to_parquet('../Data/cbs/geos/wijken_geos.parquet')"
   ]
  },
  {
   "cell_type": "markdown",
   "metadata": {},
   "source": [
    "## Gemeenten"
   ]
  },
  {
   "cell_type": "code",
   "execution_count": 8,
   "metadata": {},
   "outputs": [],
   "source": [
    "gdf_gemeenten = gpd.read_file('../Data\\cbs\\gemeenten/gemeenten_2023_v1.shp')\n",
    "\n",
    "# remove rows where H2O is JA\n",
    "gdf_gemeenten = gdf_gemeenten[gdf_gemeenten['H2O'] != 'JA']\n",
    "\n",
    "gdf_gemeenten = gdf_gemeenten.loc[:, ['GM_CODE', 'GM_NAAM', 'geometry']]\n",
    "# replace column names\n",
    "gdf_gemeenten.columns = ['gemeentecode', 'gemeentenaam', 'geometry']\n",
    "\n",
    "# remove gemeenten not present in gdf_all\n",
    "gdf_gemeenten = gdf_gemeenten[gdf_gemeenten['gemeentecode'].isin(gdf_all['gemeentecode'])]\n",
    "\n",
    "gdf_gemeenten.to_crs(epsg=4326, inplace=True)\n",
    "\n",
    "gdf_gemeenten.reset_index(drop=True, inplace=True)\n",
    "\n",
    "gdf_gemeenten.to_parquet('../Data/cbs/geos/gemeenten_geos.parquet')"
   ]
  },
  {
   "cell_type": "markdown",
   "metadata": {},
   "source": [
    "## Arbeidsregios"
   ]
  },
  {
   "cell_type": "code",
   "execution_count": 9,
   "metadata": {},
   "outputs": [],
   "source": [
    "gdf_arm = gpd.read_file('../data/cbs/arbeidsmarktregios.gpkg')\n",
    "gdf_arm.to_crs(epsg=4326, inplace=True)\n",
    "\n",
    "gdf_arm.to_parquet('../Data/cbs/geos/arbeidsmarktregios_geos.parquet')"
   ]
  }
 ],
 "metadata": {
  "kernelspec": {
   "display_name": "scriptie_38",
   "language": "python",
   "name": "python3"
  },
  "language_info": {
   "codemirror_mode": {
    "name": "ipython",
    "version": 3
   },
   "file_extension": ".py",
   "mimetype": "text/x-python",
   "name": "python",
   "nbconvert_exporter": "python",
   "pygments_lexer": "ipython3",
   "version": "3.8.19"
  }
 },
 "nbformat": 4,
 "nbformat_minor": 2
}
