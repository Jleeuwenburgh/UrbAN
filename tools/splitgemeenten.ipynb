{
 "cells": [
  {
   "cell_type": "code",
   "execution_count": 8,
   "metadata": {},
   "outputs": [
    {
     "data": {
      "text/plain": [
       "342"
      ]
     },
     "execution_count": 8,
     "metadata": {},
     "output_type": "execute_result"
    }
   ],
   "source": [
    "import geopandas as gpd\n",
    "import numpy as np\n",
    "\n",
    "gemeenten = gpd.read_parquet('data/gemeenten_RE.parquet')\n",
    "len(gemeenten)"
   ]
  },
  {
   "cell_type": "code",
   "execution_count": 9,
   "metadata": {},
   "outputs": [
    {
     "name": "stdout",
     "output_type": "stream",
     "text": [
      "wrote part 0 with 57 rows to data/gemeenten_parts/gemeenten_0.parquet\n",
      "wrote part 1 with 57 rows to data/gemeenten_parts/gemeenten_1.parquet\n",
      "wrote part 2 with 57 rows to data/gemeenten_parts/gemeenten_2.parquet\n",
      "wrote part 3 with 57 rows to data/gemeenten_parts/gemeenten_3.parquet\n",
      "wrote part 4 with 57 rows to data/gemeenten_parts/gemeenten_4.parquet\n",
      "wrote part 5 with 57 rows to data/gemeenten_parts/gemeenten_5.parquet\n"
     ]
    }
   ],
   "source": [
    "# split into 6 parts\n",
    "gemeenten = np.array_split(gemeenten, 6)\n",
    "\n",
    "for i, g in enumerate(gemeenten):\n",
    "    g.to_parquet(f'data/gemeenten_parts/gemeenten_{i}.parquet')\n",
    "    print(f\"wrote part {i} with {len(g)} rows to data/gemeenten_parts/gemeenten_{i}.parquet\")\n"
   ]
  }
 ],
 "metadata": {
  "kernelspec": {
   "display_name": "scriptie_38",
   "language": "python",
   "name": "python3"
  },
  "language_info": {
   "codemirror_mode": {
    "name": "ipython",
    "version": 3
   },
   "file_extension": ".py",
   "mimetype": "text/x-python",
   "name": "python",
   "nbconvert_exporter": "python",
   "pygments_lexer": "ipython3",
   "version": "3.8.19"
  }
 },
 "nbformat": 4,
 "nbformat_minor": 2
}
