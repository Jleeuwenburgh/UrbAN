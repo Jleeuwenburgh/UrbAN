{
 "cells": [
  {
   "cell_type": "code",
   "execution_count": 1,
   "metadata": {},
   "outputs": [],
   "source": [
    "import geopandas as gpd\n",
    "import pandas as pd\n",
    "\n",
    "import os\n",
    "import sys\n",
    "\n",
    "dir = \"data/wijken_parts/calculated/\"\n",
    "files = os.listdir(dir)\n",
    "\n",
    "# remove files not ending with .parquet\n",
    "files = [f for f in files if f.endswith(\".parquet\")]"
   ]
  },
  {
   "cell_type": "code",
   "execution_count": 2,
   "metadata": {},
   "outputs": [],
   "source": [
    "pt1 = gpd.read_parquet(dir + files[0])\n",
    "\n",
    "for file in files[1:]:\n",
    "    pt2 = gpd.read_parquet(dir + file)\n",
    "    pt1 = pd.concat([pt1, pt2], ignore_index=True)\n",
    "    \n",
    "pt1.to_parquet(\"data/wijken_concatenated.parquet\")"
   ]
  }
 ],
 "metadata": {
  "kernelspec": {
   "display_name": "scriptie_38",
   "language": "python",
   "name": "python3"
  },
  "language_info": {
   "codemirror_mode": {
    "name": "ipython",
    "version": 3
   },
   "file_extension": ".py",
   "mimetype": "text/x-python",
   "name": "python",
   "nbconvert_exporter": "python",
   "pygments_lexer": "ipython3",
   "version": "3.8.19"
  }
 },
 "nbformat": 4,
 "nbformat_minor": 2
}
