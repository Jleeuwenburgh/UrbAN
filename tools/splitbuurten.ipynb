{
 "cells": [
  {
   "cell_type": "code",
   "execution_count": 1,
   "metadata": {},
   "outputs": [],
   "source": [
    "import geopandas as gpd\n",
    "import numpy as np\n",
    "\n",
    "buurten = gpd.read_parquet('data/buurten_concatenated.parquet')"
   ]
  },
  {
   "cell_type": "code",
   "execution_count": 2,
   "metadata": {},
   "outputs": [
    {
     "name": "stdout",
     "output_type": "stream",
     "text": [
      "wrote part 0 with 1395 rows to data/buurten_parts/buurten_c_0.parquet\n",
      "wrote part 1 with 1395 rows to data/buurten_parts/buurten_c_1.parquet\n",
      "wrote part 2 with 1395 rows to data/buurten_parts/buurten_c_2.parquet\n",
      "wrote part 3 with 1394 rows to data/buurten_parts/buurten_c_3.parquet\n",
      "wrote part 4 with 1394 rows to data/buurten_parts/buurten_c_4.parquet\n",
      "wrote part 5 with 1394 rows to data/buurten_parts/buurten_c_5.parquet\n",
      "wrote part 6 with 1394 rows to data/buurten_parts/buurten_c_6.parquet\n",
      "wrote part 7 with 1394 rows to data/buurten_parts/buurten_c_7.parquet\n",
      "wrote part 8 with 1394 rows to data/buurten_parts/buurten_c_8.parquet\n",
      "wrote part 9 with 1394 rows to data/buurten_parts/buurten_c_9.parquet\n"
     ]
    }
   ],
   "source": [
    "# split into 10 parts\n",
    "buurten = np.array_split(buurten, 10)\n",
    "\n",
    "for i, g in enumerate(buurten):\n",
    "    g.to_parquet(f'data/buurten_parts/buurten_c_{i}.parquet')\n",
    "    print(f\"wrote part {i} with {len(g)} rows to data/buurten_parts/buurten_c_{i}.parquet\")\n"
   ]
  },
  {
   "cell_type": "code",
   "execution_count": 3,
   "metadata": {},
   "outputs": [
    {
     "data": {
      "text/plain": [
       "1395"
      ]
     },
     "execution_count": 3,
     "metadata": {},
     "output_type": "execute_result"
    }
   ],
   "source": [
    "part = gpd.read_parquet(\"data/buurten_parts/buurten_c_0.parquet\")\n",
    "len(part)"
   ]
  }
 ],
 "metadata": {
  "kernelspec": {
   "display_name": "scriptie_38",
   "language": "python",
   "name": "python3"
  },
  "language_info": {
   "codemirror_mode": {
    "name": "ipython",
    "version": 3
   },
   "file_extension": ".py",
   "mimetype": "text/x-python",
   "name": "python",
   "nbconvert_exporter": "python",
   "pygments_lexer": "ipython3",
   "version": "3.8.19"
  }
 },
 "nbformat": 4,
 "nbformat_minor": 2
}
