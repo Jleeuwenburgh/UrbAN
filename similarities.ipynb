{
 "cells": [
  {
   "cell_type": "code",
   "execution_count": 159,
   "metadata": {},
   "outputs": [],
   "source": [
    "import geopandas as gpd\n",
    "\n",
    "from pysal.explore import esda\n",
    "from pysal.lib import weights\n",
    "import matplotlib.pyplot as plt\n",
    "import numpy as np\n",
    "\n",
    "wk = gpd.read_parquet('data/wijken/wijken_stats.parquet')"
   ]
  },
  {
   "cell_type": "code",
   "execution_count": 160,
   "metadata": {},
   "outputs": [],
   "source": [
    "wk.columns.values\n",
    "\n",
    "cols_norm = ['L0_altieri_1_T', 'L1_altieri_1_T']\n",
    "\n",
    "wk = wk.dropna(subset=cols_norm)\n",
    "\n",
    "w = weights.KNN.from_dataframe(wk, k=8)\n",
    "# Row-standardization\n",
    "w.transform = \"R\"\n",
    "\n",
    "featurelist = []\n",
    "\n",
    "# make cols range from 0 to 1\n",
    "for col in cols_norm:\n",
    "    wk[col+'_norm'] = (wk[col] - wk[col].min()) / (wk[col].max() - wk[col].min())\n",
    "    wk[f\"w_{col}\"] = weights.lag_spatial(w, wk[col])\n",
    "    lisa = esda.moran.Moran_Local(wk[col], w)\n",
    "    wk[f\"{col}_Is\"] = lisa.Is\n",
    "    wk[f\"{col}_Is_norm\"] = (lisa.Is - lisa.Is.min()) / (lisa.Is.max() - lisa.Is.min())\n",
    "    \n",
    "    featurelist.append(f\"{col}_norm\")\n",
    "    featurelist.append(f\"{col}_Is_norm\")\n",
    "    \n",
    "wk.to_parquet('data/wijken/wijken_stats_lisa.parquet')\n"
   ]
  },
  {
   "cell_type": "code",
   "execution_count": 161,
   "metadata": {},
   "outputs": [
    {
     "name": "stdout",
     "output_type": "stream",
     "text": [
      "Dijk en Waard - Molenwijk\n"
     ]
    }
   ],
   "source": [
    "sample = wk.sample(1)\n",
    "\n",
    "print(f\"{sample.gemeentenaam.values[0]} - {sample.wijknaam.values[0]}\")"
   ]
  },
  {
   "cell_type": "code",
   "execution_count": 162,
   "metadata": {},
   "outputs": [
    {
     "data": {
      "text/html": [
       "<div>\n",
       "<style scoped>\n",
       "    .dataframe tbody tr th:only-of-type {\n",
       "        vertical-align: middle;\n",
       "    }\n",
       "\n",
       "    .dataframe tbody tr th {\n",
       "        vertical-align: top;\n",
       "    }\n",
       "\n",
       "    .dataframe thead th {\n",
       "        text-align: right;\n",
       "    }\n",
       "</style>\n",
       "<table border=\"1\" class=\"dataframe\">\n",
       "  <thead>\n",
       "    <tr style=\"text-align: right;\">\n",
       "      <th></th>\n",
       "      <th>gemeentenaam</th>\n",
       "      <th>wijknaam</th>\n",
       "      <th>distance</th>\n",
       "    </tr>\n",
       "  </thead>\n",
       "  <tbody>\n",
       "    <tr>\n",
       "      <th>0</th>\n",
       "      <td>Dijk en Waard</td>\n",
       "      <td>Molenwijk</td>\n",
       "      <td>0.000000</td>\n",
       "    </tr>\n",
       "    <tr>\n",
       "      <th>1</th>\n",
       "      <td>Tilburg</td>\n",
       "      <td>Huibeven</td>\n",
       "      <td>0.025968</td>\n",
       "    </tr>\n",
       "    <tr>\n",
       "      <th>2</th>\n",
       "      <td>Hillegom</td>\n",
       "      <td>Hillegom Zuid</td>\n",
       "      <td>0.043880</td>\n",
       "    </tr>\n",
       "    <tr>\n",
       "      <th>3</th>\n",
       "      <td>Den Helder</td>\n",
       "      <td>Wijk 02 Stad binnen de Linie-West</td>\n",
       "      <td>0.055283</td>\n",
       "    </tr>\n",
       "    <tr>\n",
       "      <th>4</th>\n",
       "      <td>Brunssum</td>\n",
       "      <td>Wijk 05 Brunssum-Centrum</td>\n",
       "      <td>0.059255</td>\n",
       "    </tr>\n",
       "    <tr>\n",
       "      <th>5</th>\n",
       "      <td>Lansingerland</td>\n",
       "      <td>Wijk 27 Westpolder</td>\n",
       "      <td>0.060924</td>\n",
       "    </tr>\n",
       "    <tr>\n",
       "      <th>6</th>\n",
       "      <td>Almelo</td>\n",
       "      <td>Hofkamp</td>\n",
       "      <td>0.061546</td>\n",
       "    </tr>\n",
       "    <tr>\n",
       "      <th>7</th>\n",
       "      <td>Almere</td>\n",
       "      <td>Parkwijk</td>\n",
       "      <td>0.061791</td>\n",
       "    </tr>\n",
       "    <tr>\n",
       "      <th>8</th>\n",
       "      <td>Nieuwegein</td>\n",
       "      <td>Zuilenstein</td>\n",
       "      <td>0.062498</td>\n",
       "    </tr>\n",
       "    <tr>\n",
       "      <th>9</th>\n",
       "      <td>Almere</td>\n",
       "      <td>Indischebuurt</td>\n",
       "      <td>0.063758</td>\n",
       "    </tr>\n",
       "  </tbody>\n",
       "</table>\n",
       "</div>"
      ],
      "text/plain": [
       "    gemeentenaam                           wijknaam  distance\n",
       "0  Dijk en Waard                          Molenwijk  0.000000\n",
       "1        Tilburg                           Huibeven  0.025968\n",
       "2       Hillegom                      Hillegom Zuid  0.043880\n",
       "3     Den Helder  Wijk 02 Stad binnen de Linie-West  0.055283\n",
       "4       Brunssum           Wijk 05 Brunssum-Centrum  0.059255\n",
       "5  Lansingerland                 Wijk 27 Westpolder  0.060924\n",
       "6         Almelo                            Hofkamp  0.061546\n",
       "7         Almere                           Parkwijk  0.061791\n",
       "8     Nieuwegein                        Zuilenstein  0.062498\n",
       "9         Almere                      Indischebuurt  0.063758"
      ]
     },
     "execution_count": 162,
     "metadata": {},
     "output_type": "execute_result"
    }
   ],
   "source": [
    "sim = wk.copy()\n",
    "\n",
    "# calculate the distance between the sample and all other wijken, don't use the index\n",
    "sim[\"distance\"] = np.linalg.norm(sim[featurelist] - sample[featurelist].values[0], axis=1)\n",
    "\n",
    "# sort by distance ascending\n",
    "similarities = sim.sort_values(\"distance\").reset_index(drop=True)\n",
    "\n",
    "similarities[[\"gemeentenaam\", \"wijknaam\", \"distance\"]].head(10)"
   ]
  }
 ],
 "metadata": {
  "kernelspec": {
   "display_name": "scriptie_38",
   "language": "python",
   "name": "python3"
  },
  "language_info": {
   "codemirror_mode": {
    "name": "ipython",
    "version": 3
   },
   "file_extension": ".py",
   "mimetype": "text/x-python",
   "name": "python",
   "nbconvert_exporter": "python",
   "pygments_lexer": "ipython3",
   "version": "3.8.19"
  }
 },
 "nbformat": 4,
 "nbformat_minor": 2
}
