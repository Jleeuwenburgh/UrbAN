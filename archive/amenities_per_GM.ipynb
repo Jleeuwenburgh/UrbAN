{
 "cells": [
  {
   "cell_type": "code",
   "execution_count": 10,
   "metadata": {},
   "outputs": [],
   "source": [
    "import geopandas as gpd\n",
    "import classes.entropycalculator as ec\n",
    "\n",
    "from tqdm import tqdm\n",
    "from IPython.display import clear_output\n",
    "import gc\n",
    "\n",
    "gemeenten = gpd.read_parquet('data/gemeenten.parquet')\n",
    "\n",
    "gm_list = ['Eindhoven', 'Amsterdam', 'Rotterdam', 'Utrecht', 'Groningen', 'Maastricht', 'Leeuwarden', 'Arnhem', 'Zwolle', \"'s-Gravenhage\"]"
   ]
  },
  {
   "cell_type": "code",
   "execution_count": 12,
   "metadata": {},
   "outputs": [
    {
     "name": "stderr",
     "output_type": "stream",
     "text": [
      "100%|██████████| 342/342 [47:33<00:00,  8.34s/it]\n"
     ]
    }
   ],
   "source": [
    "# get the categorised amenities\n",
    "# amenities_ams = ec.return_categorised_amenities(ams.geometry.values[0])\n",
    "\n",
    "\n",
    "\n",
    "for i, row in tqdm(gemeenten.iterrows(), total=gemeenten.shape[0]):\n",
    "    if row['gemeentenaam'] in gm_list:\n",
    "        continue\n",
    "    print(f\"processing {row['gemeentenaam']}\")\n",
    "    \n",
    "    gm = row['gemeentenaam']\n",
    "    amenities_gdf = ec.return_categorised_amenities(gemeenten[gemeenten['gemeentenaam'] == gm].geometry.values[0])\n",
    "    amenities_gdf.loc[:, 'points_tup'] = amenities_gdf.loc[:, 'geometry'].apply(lambda x: (x.x, x.y))\n",
    "    \n",
    "    # save the amenities\n",
    "    amenities_gdf.to_parquet(f'data/gm_amenities/amenities_{gm}.parquet')\n",
    "    \n",
    "    del amenities_gdf\n",
    "    gc.collect()\n",
    "    clear_output(wait=True)\n",
    "\n"
   ]
  }
 ],
 "metadata": {
  "kernelspec": {
   "display_name": "scriptie_38",
   "language": "python",
   "name": "python3"
  },
  "language_info": {
   "codemirror_mode": {
    "name": "ipython",
    "version": 3
   },
   "file_extension": ".py",
   "mimetype": "text/x-python",
   "name": "python",
   "nbconvert_exporter": "python",
   "pygments_lexer": "ipython3",
   "version": "3.8.19"
  }
 },
 "nbformat": 4,
 "nbformat_minor": 2
}
