{
 "cells": [
  {
   "cell_type": "code",
   "execution_count": 1,
   "metadata": {},
   "outputs": [],
   "source": [
    "import geopandas as gpd\n",
    "import pandas as pd\n",
    "import classes.entropycalculator as ec\n",
    "import shapely\n",
    "from spatialentropy import altieri_entropy, leibovici_entropy\n",
    "from scipy.stats import entropy\n",
    "import numpy as np\n",
    "import gc\n",
    "\n",
    "from IPython.display import clear_output\n",
    "\n",
    "from tqdm import tqdm\n",
    "tqdm.pandas()\n",
    "\n",
    "# select the part to handle\n",
    "part = 2"
   ]
  },
  {
   "cell_type": "code",
   "execution_count": 2,
   "metadata": {},
   "outputs": [],
   "source": [
    "gemeenten = gpd.read_parquet(f\"data/wijken_parts/wijken_{part}.parquet\")\n"
   ]
  },
  {
   "cell_type": "code",
   "execution_count": 3,
   "metadata": {},
   "outputs": [],
   "source": [
    "def _get_shannon_entropy(labels, base=2):\n",
    "    # get the total count of the labels\n",
    "    total_count = len(labels)\n",
    "    # get the unique labels and their counts\n",
    "    _, label_counts = np.unique(labels, return_counts=True)\n",
    "\n",
    "    probs = label_counts / total_count\n",
    "    # get the entropy\n",
    "    return entropy(probs, base=base)\n",
    "\n",
    "def gm_total_amenities_entropy(gm_name, filter_i, area):\n",
    "    L0_BLACKLIST, L1_BLACKLIST = ec.getfilter(filter_i)\n",
    "    amenity_gdf = gpd.read_parquet(f\"data/gm_amenities/amenities_{gm_name}.parquet\")\n",
    "    amenity_gdf = amenity_gdf[amenity_gdf.within(area)]\n",
    "    \n",
    "    # apply filters\n",
    "    amenity_gdf = amenity_gdf[~amenity_gdf.L0_category.isin(L0_BLACKLIST)]\n",
    "    if L1_BLACKLIST:\n",
    "        for key, value in L1_BLACKLIST.items():\n",
    "            amenity_gdf = amenity_gdf[\n",
    "                ~(\n",
    "                    (amenity_gdf.L0_category == key)\n",
    "                    & (amenity_gdf.L1_category.isin(value))\n",
    "                )\n",
    "            ]\n",
    "    \n",
    "    # total number of amenities\n",
    "    total_amenities = len(amenity_gdf)\n",
    "    \n",
    "    points = [[point.x, point.y] for point in amenity_gdf.geometry]\n",
    "    \n",
    "    # calculate entropy\n",
    "    L0 = amenity_gdf.loc[:, f\"L0_category\"].values\n",
    "    L1 = amenity_gdf.loc[:, f\"L1_category\"].values\n",
    "    try:\n",
    "        L0_entropy_lei = leibovici_entropy(points, L0, base=2).entropy\n",
    "    except IndexError:\n",
    "        L0_entropy_lei = 0\n",
    "    try:\n",
    "        L1_entropy_lei = leibovici_entropy(points, L1, base=2).entropy\n",
    "    except IndexError:\n",
    "        L1_entropy_lei = 0\n",
    "    \n",
    "    del points\n",
    "    gc.collect()\n",
    "    \n",
    "    return total_amenities, L0_entropy_lei, L1_entropy_lei"
   ]
  },
  {
   "cell_type": "code",
   "execution_count": 4,
   "metadata": {},
   "outputs": [
    {
     "name": "stdout",
     "output_type": "stream",
     "text": [
      "Filter 0\n"
     ]
    },
    {
     "name": "stderr",
     "output_type": "stream",
     "text": [
      "100%|██████████| 416/416 [39:36<00:00,  5.71s/it]  \n"
     ]
    },
    {
     "name": "stdout",
     "output_type": "stream",
     "text": [
      "Filter 1\n"
     ]
    },
    {
     "name": "stderr",
     "output_type": "stream",
     "text": [
      " 14%|█▍        | 60/416 [04:34<27:10,  4.58s/it]  \n"
     ]
    },
    {
     "ename": "KeyboardInterrupt",
     "evalue": "",
     "output_type": "error",
     "traceback": [
      "\u001b[0;31m---------------------------------------------------------------------------\u001b[0m",
      "\u001b[0;31mKeyboardInterrupt\u001b[0m                         Traceback (most recent call last)",
      "Cell \u001b[0;32mIn[4], line 4\u001b[0m\n\u001b[1;32m      2\u001b[0m \u001b[38;5;28mprint\u001b[39m(\u001b[38;5;124mf\u001b[39m\u001b[38;5;124m\"\u001b[39m\u001b[38;5;124mFilter \u001b[39m\u001b[38;5;132;01m{\u001b[39;00m\u001b[38;5;28mfilter\u001b[39m\u001b[38;5;132;01m}\u001b[39;00m\u001b[38;5;124m\"\u001b[39m)\n\u001b[1;32m      3\u001b[0m \u001b[38;5;28;01mfor\u001b[39;00m i, gm \u001b[38;5;129;01min\u001b[39;00m tqdm(gemeenten\u001b[38;5;241m.\u001b[39miterrows(), total\u001b[38;5;241m=\u001b[39m\u001b[38;5;28mlen\u001b[39m(gemeenten)):\n\u001b[0;32m----> 4\u001b[0m     total_amenities, L0_entropy_lei, L1_entropy_lei \u001b[38;5;241m=\u001b[39m \u001b[43mgm_total_amenities_entropy\u001b[49m\u001b[43m(\u001b[49m\u001b[43mgm\u001b[49m\u001b[43m[\u001b[49m\u001b[38;5;124;43m\"\u001b[39;49m\u001b[38;5;124;43mgemeentenaam\u001b[39;49m\u001b[38;5;124;43m\"\u001b[39;49m\u001b[43m]\u001b[49m\u001b[43m,\u001b[49m\u001b[43m \u001b[49m\u001b[38;5;28;43mfilter\u001b[39;49m\u001b[43m,\u001b[49m\u001b[43m \u001b[49m\u001b[43mgm\u001b[49m\u001b[43m[\u001b[49m\u001b[38;5;124;43m\"\u001b[39;49m\u001b[38;5;124;43mgeometry\u001b[39;49m\u001b[38;5;124;43m\"\u001b[39;49m\u001b[43m]\u001b[49m\u001b[43m)\u001b[49m\n\u001b[1;32m      5\u001b[0m     \u001b[38;5;66;03m# gemeenten.at[i, f\"total_amenities_{filter}\"] = total_amenities\u001b[39;00m\n\u001b[1;32m      6\u001b[0m     gemeenten\u001b[38;5;241m.\u001b[39mat[i, \u001b[38;5;124mf\u001b[39m\u001b[38;5;124m\"\u001b[39m\u001b[38;5;124mL0_leibovici_\u001b[39m\u001b[38;5;132;01m{\u001b[39;00m\u001b[38;5;28mfilter\u001b[39m\u001b[38;5;132;01m}\u001b[39;00m\u001b[38;5;124m\"\u001b[39m] \u001b[38;5;241m=\u001b[39m L0_entropy_lei\n",
      "Cell \u001b[0;32mIn[3], line 13\u001b[0m, in \u001b[0;36mgm_total_amenities_entropy\u001b[0;34m(gm_name, filter_i, area)\u001b[0m\n\u001b[1;32m     11\u001b[0m \u001b[38;5;28;01mdef\u001b[39;00m \u001b[38;5;21mgm_total_amenities_entropy\u001b[39m(gm_name, filter_i, area):\n\u001b[1;32m     12\u001b[0m     L0_BLACKLIST, L1_BLACKLIST \u001b[38;5;241m=\u001b[39m ec\u001b[38;5;241m.\u001b[39mgetfilter(filter_i)\n\u001b[0;32m---> 13\u001b[0m     amenity_gdf \u001b[38;5;241m=\u001b[39m \u001b[43mgpd\u001b[49m\u001b[38;5;241;43m.\u001b[39;49m\u001b[43mread_parquet\u001b[49m\u001b[43m(\u001b[49m\u001b[38;5;124;43mf\u001b[39;49m\u001b[38;5;124;43m\"\u001b[39;49m\u001b[38;5;124;43mdata/gm_amenities/amenities_\u001b[39;49m\u001b[38;5;132;43;01m{\u001b[39;49;00m\u001b[43mgm_name\u001b[49m\u001b[38;5;132;43;01m}\u001b[39;49;00m\u001b[38;5;124;43m.parquet\u001b[39;49m\u001b[38;5;124;43m\"\u001b[39;49m\u001b[43m)\u001b[49m\n\u001b[1;32m     14\u001b[0m     amenity_gdf \u001b[38;5;241m=\u001b[39m amenity_gdf[amenity_gdf\u001b[38;5;241m.\u001b[39mwithin(area)]\n\u001b[1;32m     16\u001b[0m     \u001b[38;5;66;03m# apply filters\u001b[39;00m\n",
      "File \u001b[0;32m~/miniconda3/envs/scriptie/lib/python3.8/site-packages/geopandas/io/arrow.py:617\u001b[0m, in \u001b[0;36m_read_parquet\u001b[0;34m(path, columns, storage_options, **kwargs)\u001b[0m\n\u001b[1;32m    614\u001b[0m     \u001b[38;5;28;01mexcept\u001b[39;00m \u001b[38;5;167;01mException\u001b[39;00m:\n\u001b[1;32m    615\u001b[0m         \u001b[38;5;28;01mpass\u001b[39;00m\n\u001b[0;32m--> 617\u001b[0m \u001b[38;5;28;01mreturn\u001b[39;00m \u001b[43m_arrow_to_geopandas\u001b[49m\u001b[43m(\u001b[49m\u001b[43mtable\u001b[49m\u001b[43m,\u001b[49m\u001b[43m \u001b[49m\u001b[43mmetadata\u001b[49m\u001b[43m)\u001b[49m\n",
      "File \u001b[0;32m~/miniconda3/envs/scriptie/lib/python3.8/site-packages/geopandas/io/arrow.py:402\u001b[0m, in \u001b[0;36m_arrow_to_geopandas\u001b[0;34m(table, metadata)\u001b[0m\n\u001b[1;32m    398\u001b[0m \u001b[38;5;28;01mdef\u001b[39;00m \u001b[38;5;21m_arrow_to_geopandas\u001b[39m(table, metadata\u001b[38;5;241m=\u001b[39m\u001b[38;5;28;01mNone\u001b[39;00m):\n\u001b[1;32m    399\u001b[0m \u001b[38;5;250m    \u001b[39m\u001b[38;5;124;03m\"\"\"\u001b[39;00m\n\u001b[1;32m    400\u001b[0m \u001b[38;5;124;03m    Helper function with main, shared logic for read_parquet/read_feather.\u001b[39;00m\n\u001b[1;32m    401\u001b[0m \u001b[38;5;124;03m    \"\"\"\u001b[39;00m\n\u001b[0;32m--> 402\u001b[0m     df \u001b[38;5;241m=\u001b[39m \u001b[43mtable\u001b[49m\u001b[38;5;241;43m.\u001b[39;49m\u001b[43mto_pandas\u001b[49m\u001b[43m(\u001b[49m\u001b[43m)\u001b[49m\n\u001b[1;32m    404\u001b[0m     metadata \u001b[38;5;241m=\u001b[39m metadata \u001b[38;5;129;01mor\u001b[39;00m table\u001b[38;5;241m.\u001b[39mschema\u001b[38;5;241m.\u001b[39mmetadata\n\u001b[1;32m    406\u001b[0m     \u001b[38;5;28;01mif\u001b[39;00m metadata \u001b[38;5;129;01mis\u001b[39;00m \u001b[38;5;28;01mNone\u001b[39;00m \u001b[38;5;129;01mor\u001b[39;00m \u001b[38;5;124mb\u001b[39m\u001b[38;5;124m\"\u001b[39m\u001b[38;5;124mgeo\u001b[39m\u001b[38;5;124m\"\u001b[39m \u001b[38;5;129;01mnot\u001b[39;00m \u001b[38;5;129;01min\u001b[39;00m metadata:\n",
      "File \u001b[0;32m~/miniconda3/envs/scriptie/lib/python3.8/site-packages/pyarrow/array.pxi:872\u001b[0m, in \u001b[0;36mpyarrow.lib._PandasConvertible.to_pandas\u001b[0;34m()\u001b[0m\n",
      "File \u001b[0;32m~/miniconda3/envs/scriptie/lib/python3.8/site-packages/pyarrow/table.pxi:4904\u001b[0m, in \u001b[0;36mpyarrow.lib.Table._to_pandas\u001b[0;34m()\u001b[0m\n",
      "File \u001b[0;32m~/miniconda3/envs/scriptie/lib/python3.8/site-packages/pyarrow/pandas_compat.py:779\u001b[0m, in \u001b[0;36mtable_to_dataframe\u001b[0;34m(options, table, categories, ignore_metadata, types_mapper)\u001b[0m\n\u001b[1;32m    776\u001b[0m columns \u001b[38;5;241m=\u001b[39m _deserialize_column_index(table, all_columns, column_indexes)\n\u001b[1;32m    778\u001b[0m column_names \u001b[38;5;241m=\u001b[39m table\u001b[38;5;241m.\u001b[39mcolumn_names\n\u001b[0;32m--> 779\u001b[0m result \u001b[38;5;241m=\u001b[39m \u001b[43mpa\u001b[49m\u001b[38;5;241;43m.\u001b[39;49m\u001b[43mlib\u001b[49m\u001b[38;5;241;43m.\u001b[39;49m\u001b[43mtable_to_blocks\u001b[49m\u001b[43m(\u001b[49m\u001b[43moptions\u001b[49m\u001b[43m,\u001b[49m\u001b[43m \u001b[49m\u001b[43mtable\u001b[49m\u001b[43m,\u001b[49m\u001b[43m \u001b[49m\u001b[43mcategories\u001b[49m\u001b[43m,\u001b[49m\n\u001b[1;32m    780\u001b[0m \u001b[43m                                \u001b[49m\u001b[38;5;28;43mlist\u001b[39;49m\u001b[43m(\u001b[49m\u001b[43mext_columns_dtypes\u001b[49m\u001b[38;5;241;43m.\u001b[39;49m\u001b[43mkeys\u001b[49m\u001b[43m(\u001b[49m\u001b[43m)\u001b[49m\u001b[43m)\u001b[49m\u001b[43m)\u001b[49m\n\u001b[1;32m    781\u001b[0m \u001b[38;5;28;01mif\u001b[39;00m _pandas_api\u001b[38;5;241m.\u001b[39mis_ge_v3():\n\u001b[1;32m    782\u001b[0m     \u001b[38;5;28;01mfrom\u001b[39;00m \u001b[38;5;21;01mpandas\u001b[39;00m\u001b[38;5;21;01m.\u001b[39;00m\u001b[38;5;21;01mapi\u001b[39;00m\u001b[38;5;21;01m.\u001b[39;00m\u001b[38;5;21;01minternals\u001b[39;00m \u001b[38;5;28;01mimport\u001b[39;00m create_dataframe_from_blocks\n",
      "\u001b[0;31mKeyboardInterrupt\u001b[0m: "
     ]
    }
   ],
   "source": [
    "for filter in [0, 1, 2]:\n",
    "    print(f\"Filter {filter}\")\n",
    "    for i, gm in tqdm(gemeenten.iterrows(), total=len(gemeenten)):\n",
    "        total_amenities, L0_entropy_lei, L1_entropy_lei = gm_total_amenities_entropy(gm[\"gemeentenaam\"], filter, gm[\"geometry\"])\n",
    "        # gemeenten.at[i, f\"total_amenities_{filter}\"] = total_amenities\n",
    "        gemeenten.at[i, f\"L0_leibovici_{filter}\"] = L0_entropy_lei\n",
    "        gemeenten.at[i, f\"L1_leibovici_{filter}\"] = L1_entropy_lei\n",
    "        \n",
    "        del total_amenities, L0_entropy_lei, L1_entropy_lei\n",
    "        gc.collect()\n",
    "    \n",
    "gemeenten.to_parquet(f\"data/wijken_parts/calculated/wijken_{part}.parquet\")\n"
   ]
  }
 ],
 "metadata": {
  "kernelspec": {
   "display_name": "scriptie_38",
   "language": "python",
   "name": "python3"
  },
  "language_info": {
   "codemirror_mode": {
    "name": "ipython",
    "version": 3
   },
   "file_extension": ".py",
   "mimetype": "text/x-python",
   "name": "python",
   "nbconvert_exporter": "python",
   "pygments_lexer": "ipython3",
   "version": "3.8.19"
  }
 },
 "nbformat": 4,
 "nbformat_minor": 2
}
