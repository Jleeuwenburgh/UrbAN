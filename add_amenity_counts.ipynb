{
 "cells": [
  {
   "cell_type": "code",
   "execution_count": 14,
   "metadata": {},
   "outputs": [],
   "source": [
    "import geopandas as gpd\n",
    "import classes.entropycalculator as ec\n",
    "import gc\n",
    "import numpy as np\n",
    "import pandas as pd\n",
    "\n",
    "from tqdm import tqdm\n",
    "tqdm.pandas()\n",
    "\n",
    "from spatialentropy import altieri_entropy, leibovici_entropy\n",
    "from scipy.stats import entropy\n",
    "\n",
    "categorisation = pd.read_excel(\"data/categorisation.xlsx\")\n",
    "\n",
    "gm_list = ['Eindhoven', 'Amsterdam', 'Rotterdam', 'Utrecht', 'Groningen', 'Maastricht', 'Leeuwarden', 'Arnhem', 'Zwolle', \"'s-Gravenhage\"]\n",
    "scales = ['wijken', 'buurten']\n",
    "filters = [0, 1, 2]"
   ]
  },
  {
   "cell_type": "code",
   "execution_count": 15,
   "metadata": {},
   "outputs": [],
   "source": [
    "def get_categorisation_filtered(categorisation, L0_filter, L1_filter):\n",
    "    # Filter the categorisation dataframe based on the L0 and L1 categories\n",
    "    categorisation = categorisation[~categorisation[\"L0 category\"].isin(L0_filter)]\n",
    "    if L1_filter:\n",
    "        for key, value in L1_filter.items():\n",
    "            categorisation = categorisation[\n",
    "                ~(\n",
    "                    (categorisation[\"L0 category\"] == key)\n",
    "                    & (categorisation[\"L1 category\"].isin(value))\n",
    "                )\n",
    "            ]\n",
    "    L0_cats = categorisation[\"L0 category\"].unique()\n",
    "    L1_cats = categorisation[\"L1 category\"].unique()\n",
    "    return L0_cats, L1_cats"
   ]
  },
  {
   "cell_type": "code",
   "execution_count": 16,
   "metadata": {},
   "outputs": [],
   "source": [
    "def append_amenity_counts(gemeente):\n",
    "    \n",
    "    amenities_gm = gpd.read_parquet(f\"data/gm_amenities/amenities_{gemeente}.parquet\")\n",
    "    \n",
    "    for filteri in filters:\n",
    "        \n",
    "        L0_filter, L1_filter = ec.getfilter(filteri)\n",
    "        L0_cats, L1_cats = get_categorisation_filtered(categorisation, L0_filter, L1_filter)\n",
    "        \n",
    "        for scale in scales:\n",
    "            \n",
    "            gdf = gpd.read_parquet(f\"results/filter{filteri}/{scale}/{gemeente}_{scale}_{filteri}.parquet\")\n",
    "            \n",
    "            for idx, row in tqdm(gdf.iterrows(), total=gdf.shape[0]):\n",
    "                amenities = amenities_gm[amenities_gm.within(row[\"geometry\"])]\n",
    "                \n",
    "                if amenities.empty:\n",
    "                    for cat in L0_cats:\n",
    "                        gdf.at[idx, f\"L0_c_{cat}\"] = 0\n",
    "                    for cat in L1_cats:\n",
    "                        gdf.at[idx, f\"L1_c_{cat}\"] = 0\n",
    "                    continue\n",
    "                \n",
    "                L0_counts, L1_counts = amenities.value_counts(\"L0_category\"), amenities.value_counts(\"L1_category\")\n",
    "                \n",
    "                for cat in L0_cats:\n",
    "                    gdf.at[idx, f\"L0_c_{cat}\"] = L0_counts.get(cat, 0)\n",
    "                    \n",
    "                for cat in L1_cats:\n",
    "                    gdf.at[idx, f\"L1_c_{cat}\"] = L1_counts.get(cat, 0)\n",
    "                    \n",
    "            gdf.to_parquet(f\"results/filter{filteri}/{scale}/{gemeente}_{scale}_{filteri}.parquet\")\n",
    "            \n",
    "            del gdf\n",
    "            del amenities\n",
    "            del L0_counts\n",
    "            del L1_counts\n",
    "            gc.collect()\n",
    "            "
   ]
  },
  {
   "cell_type": "code",
   "execution_count": 19,
   "metadata": {},
   "outputs": [
    {
     "name": "stdout",
     "output_type": "stream",
     "text": [
      "Processing Eindhoven\n"
     ]
    },
    {
     "name": "stderr",
     "output_type": "stream",
     "text": [
      "100%|██████████| 20/20 [00:00<00:00, 49.83it/s]\n",
      "100%|██████████| 112/112 [00:00<00:00, 231.51it/s]\n",
      "100%|██████████| 20/20 [00:00<00:00, 49.98it/s]\n",
      "100%|██████████| 112/112 [00:00<00:00, 239.83it/s]\n",
      "100%|██████████| 20/20 [00:00<00:00, 52.10it/s]\n",
      "100%|██████████| 112/112 [00:00<00:00, 233.53it/s]\n"
     ]
    },
    {
     "name": "stdout",
     "output_type": "stream",
     "text": [
      "Processing Amsterdam\n"
     ]
    },
    {
     "name": "stderr",
     "output_type": "stream",
     "text": [
      "100%|██████████| 110/110 [00:03<00:00, 32.66it/s]\n",
      "100%|██████████| 489/489 [00:03<00:00, 156.80it/s]\n",
      "100%|██████████| 110/110 [00:03<00:00, 35.65it/s]\n",
      "100%|██████████| 489/489 [00:02<00:00, 170.57it/s]\n",
      "100%|██████████| 110/110 [00:03<00:00, 33.79it/s]\n",
      "100%|██████████| 489/489 [00:02<00:00, 177.72it/s]\n"
     ]
    },
    {
     "name": "stdout",
     "output_type": "stream",
     "text": [
      "Processing Rotterdam\n"
     ]
    },
    {
     "name": "stderr",
     "output_type": "stream",
     "text": [
      "100%|██████████| 20/20 [00:01<00:00, 10.93it/s]\n",
      "100%|██████████| 87/87 [00:01<00:00, 52.68it/s]\n",
      "100%|██████████| 20/20 [00:01<00:00, 11.12it/s]\n",
      "100%|██████████| 87/87 [00:01<00:00, 52.67it/s]\n",
      "100%|██████████| 20/20 [00:01<00:00, 10.61it/s]\n",
      "100%|██████████| 87/87 [00:01<00:00, 53.14it/s]\n"
     ]
    },
    {
     "name": "stdout",
     "output_type": "stream",
     "text": [
      "Processing Utrecht\n"
     ]
    },
    {
     "name": "stderr",
     "output_type": "stream",
     "text": [
      "100%|██████████| 10/10 [00:02<00:00,  4.92it/s]\n",
      "100%|██████████| 110/110 [00:00<00:00, 119.23it/s]\n",
      "100%|██████████| 10/10 [00:02<00:00,  4.87it/s]\n",
      "100%|██████████| 110/110 [00:00<00:00, 131.65it/s]\n",
      "100%|██████████| 10/10 [00:02<00:00,  4.81it/s]\n",
      "100%|██████████| 110/110 [00:00<00:00, 134.50it/s]\n"
     ]
    },
    {
     "name": "stdout",
     "output_type": "stream",
     "text": [
      "Processing Groningen\n"
     ]
    },
    {
     "name": "stderr",
     "output_type": "stream",
     "text": [
      "100%|██████████| 20/20 [00:00<00:00, 25.45it/s]\n",
      "100%|██████████| 141/141 [00:00<00:00, 191.25it/s]\n",
      "100%|██████████| 20/20 [00:00<00:00, 25.42it/s]\n",
      "100%|██████████| 141/141 [00:00<00:00, 209.06it/s]\n",
      "100%|██████████| 20/20 [00:00<00:00, 25.37it/s]\n",
      "100%|██████████| 141/141 [00:00<00:00, 204.14it/s]\n"
     ]
    },
    {
     "name": "stdout",
     "output_type": "stream",
     "text": [
      "Processing Maastricht\n"
     ]
    },
    {
     "name": "stderr",
     "output_type": "stream",
     "text": [
      "100%|██████████| 7/7 [00:00<00:00, 35.89it/s]\n",
      "100%|██████████| 44/44 [00:00<00:00, 181.56it/s]\n",
      "100%|██████████| 7/7 [00:00<00:00, 34.97it/s]\n",
      "100%|██████████| 44/44 [00:00<00:00, 188.23it/s]\n",
      "100%|██████████| 7/7 [00:00<00:00, 38.72it/s]\n",
      "100%|██████████| 44/44 [00:00<00:00, 192.82it/s]\n"
     ]
    },
    {
     "name": "stdout",
     "output_type": "stream",
     "text": [
      "Processing Leeuwarden\n"
     ]
    },
    {
     "name": "stderr",
     "output_type": "stream",
     "text": [
      "100%|██████████| 22/22 [00:02<00:00, 10.34it/s]\n",
      "100%|██████████| 128/128 [00:01<00:00, 97.23it/s] \n",
      "100%|██████████| 22/22 [00:02<00:00, 10.45it/s]\n",
      "100%|██████████| 128/128 [00:01<00:00, 97.12it/s] \n",
      "100%|██████████| 22/22 [00:02<00:00, 10.45it/s]\n",
      "100%|██████████| 128/128 [00:01<00:00, 96.91it/s] \n"
     ]
    },
    {
     "name": "stdout",
     "output_type": "stream",
     "text": [
      "Processing Arnhem\n"
     ]
    },
    {
     "name": "stderr",
     "output_type": "stream",
     "text": [
      "100%|██████████| 24/24 [00:00<00:00, 81.45it/s]\n",
      "100%|██████████| 83/83 [00:00<00:00, 176.02it/s]\n",
      "100%|██████████| 24/24 [00:00<00:00, 83.16it/s]\n",
      "100%|██████████| 83/83 [00:00<00:00, 199.78it/s]\n",
      "100%|██████████| 24/24 [00:00<00:00, 89.15it/s]\n",
      "100%|██████████| 83/83 [00:00<00:00, 207.58it/s]\n"
     ]
    },
    {
     "name": "stdout",
     "output_type": "stream",
     "text": [
      "Processing Zwolle\n"
     ]
    },
    {
     "name": "stderr",
     "output_type": "stream",
     "text": [
      "100%|██████████| 16/16 [00:00<00:00, 39.82it/s]\n",
      "100%|██████████| 77/77 [00:00<00:00, 178.34it/s]\n",
      "100%|██████████| 16/16 [00:00<00:00, 41.97it/s]\n",
      "100%|██████████| 77/77 [00:00<00:00, 180.20it/s]\n",
      "100%|██████████| 16/16 [00:00<00:00, 42.04it/s]\n",
      "100%|██████████| 77/77 [00:00<00:00, 184.07it/s]\n"
     ]
    },
    {
     "name": "stdout",
     "output_type": "stream",
     "text": [
      "Processing 's-Gravenhage\n"
     ]
    },
    {
     "name": "stderr",
     "output_type": "stream",
     "text": [
      "100%|██████████| 43/43 [00:02<00:00, 15.42it/s]\n",
      "100%|██████████| 111/111 [00:02<00:00, 44.13it/s]\n",
      "100%|██████████| 43/43 [00:03<00:00, 13.44it/s]\n",
      "100%|██████████| 111/111 [00:02<00:00, 44.43it/s]\n",
      "100%|██████████| 43/43 [00:03<00:00, 13.44it/s]\n",
      "100%|██████████| 111/111 [00:02<00:00, 42.68it/s]\n"
     ]
    }
   ],
   "source": [
    "for gm in gm_list:\n",
    "    print(f\"Processing {gm}\")\n",
    "    append_amenity_counts(gm)"
   ]
  }
 ],
 "metadata": {
  "kernelspec": {
   "display_name": "scriptie_38",
   "language": "python",
   "name": "python3"
  },
  "language_info": {
   "codemirror_mode": {
    "name": "ipython",
    "version": 3
   },
   "file_extension": ".py",
   "mimetype": "text/x-python",
   "name": "python",
   "nbconvert_exporter": "python",
   "pygments_lexer": "ipython3",
   "version": "3.8.19"
  }
 },
 "nbformat": 4,
 "nbformat_minor": 2
}
