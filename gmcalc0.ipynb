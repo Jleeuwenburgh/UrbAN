{
 "cells": [
  {
   "cell_type": "code",
   "execution_count": 9,
   "metadata": {},
   "outputs": [],
   "source": [
    "import geopandas as gpd\n",
    "import pandas as pd\n",
    "import classes.entropycalculator as ec\n",
    "from spatialentropy import altieri_entropy, leibovici_entropy\n",
    "from scipy.stats import entropy\n",
    "import numpy as np\n",
    "import gc\n",
    "\n",
    "from IPython.display import clear_output\n",
    "\n",
    "from tqdm import tqdm\n",
    "tqdm.pandas()\n",
    "\n",
    "# select the part to handle\n",
    "part = 0"
   ]
  },
  {
   "cell_type": "code",
   "execution_count": 10,
   "metadata": {},
   "outputs": [],
   "source": [
    "gemeenten = gpd.read_parquet(f\"data/gemeenten_parts/gemeenten_{part}.parquet\")\n",
    "\n"
   ]
  },
  {
   "cell_type": "code",
   "execution_count": 11,
   "metadata": {},
   "outputs": [],
   "source": [
    "def _get_shannon_entropy(labels, base=2):\n",
    "    # get the total count of the labels\n",
    "    total_count = len(labels)\n",
    "    # get the unique labels and their counts\n",
    "    _, label_counts = np.unique(labels, return_counts=True)\n",
    "\n",
    "    probs = label_counts / total_count\n",
    "    # get the entropy\n",
    "    return entropy(probs, base=base)\n",
    "\n",
    "def gm_total_amenities_entropy(gm_name, filter_i):\n",
    "    L0_BLACKLIST, L1_BLACKLIST = ec.getfilter(filter_i)\n",
    "    amenity_gdf = gpd.read_parquet(f\"data/gm_amenities/amenities_{gm_name}.parquet\")\n",
    "    \n",
    "    # apply filters\n",
    "    amenity_gdf = amenity_gdf[~amenity_gdf.L0_category.isin(L0_BLACKLIST)]\n",
    "    if L1_BLACKLIST:\n",
    "        for key, value in L1_BLACKLIST.items():\n",
    "            amenity_gdf = amenity_gdf[\n",
    "                ~(\n",
    "                    (amenity_gdf.L0_category == key)\n",
    "                    & (amenity_gdf.L1_category.isin(value))\n",
    "                )\n",
    "            ]\n",
    "    \n",
    "    # total number of amenities\n",
    "    total_amenities = len(amenity_gdf)\n",
    "    \n",
    "    points = [[point.x, point.y] for point in amenity_gdf.geometry]\n",
    "    \n",
    "    # calculate entropy\n",
    "    L0 = amenity_gdf.loc[:, f\"L0_category\"].values\n",
    "    L1 = amenity_gdf.loc[:, f\"L1_category\"].values\n",
    "    # L0_entropy = _get_shannon_entropy(L0, base=2)\n",
    "    # L1_entropy = _get_shannon_entropy(L1, base=2)\n",
    "    L0_entropy_alt = altieri_entropy(points, L0, base=2).entropy\n",
    "    L1_entropy_alt = altieri_entropy(points, L1, base=2).entropy\n",
    "    L0_entropy_lei = leibovici_entropy(points, L0, base=2).entropy\n",
    "    L1_entropy_lei = leibovici_entropy(points, L1, base=2).entropy\n",
    "    \n",
    "    del points\n",
    "    gc.collect()\n",
    "    \n",
    "    return total_amenities, L0_entropy_alt, L1_entropy_alt, L0_entropy_lei, L1_entropy_lei"
   ]
  },
  {
   "cell_type": "code",
   "execution_count": 12,
   "metadata": {},
   "outputs": [
    {
     "name": "stdout",
     "output_type": "stream",
     "text": [
      "Filter 0\n"
     ]
    },
    {
     "name": "stderr",
     "output_type": "stream",
     "text": [
      "  0%|          | 0/5 [02:34<?, ?it/s]\n"
     ]
    },
    {
     "ename": "KeyboardInterrupt",
     "evalue": "",
     "output_type": "error",
     "traceback": [
      "\u001b[1;31m---------------------------------------------------------------------------\u001b[0m",
      "\u001b[1;31mKeyboardInterrupt\u001b[0m                         Traceback (most recent call last)",
      "Cell \u001b[1;32mIn[12], line 4\u001b[0m\n\u001b[0;32m      2\u001b[0m \u001b[38;5;28mprint\u001b[39m(\u001b[38;5;124mf\u001b[39m\u001b[38;5;124m\"\u001b[39m\u001b[38;5;124mFilter \u001b[39m\u001b[38;5;132;01m{\u001b[39;00m\u001b[38;5;28mfilter\u001b[39m\u001b[38;5;132;01m}\u001b[39;00m\u001b[38;5;124m\"\u001b[39m)\n\u001b[0;32m      3\u001b[0m \u001b[38;5;28;01mfor\u001b[39;00m i, gm \u001b[38;5;129;01min\u001b[39;00m tqdm(gemeenten\u001b[38;5;241m.\u001b[39miterrows(), total\u001b[38;5;241m=\u001b[39m\u001b[38;5;28mlen\u001b[39m(gemeenten)):\n\u001b[1;32m----> 4\u001b[0m     total_amenities, L0_entropy_alt, L1_entropy_alt, L0_entropy_lei, L1_entropy_lei \u001b[38;5;241m=\u001b[39m gm_total_amenities_entropy(gm[\u001b[38;5;124m\"\u001b[39m\u001b[38;5;124mgemeentenaam\u001b[39m\u001b[38;5;124m\"\u001b[39m], \u001b[38;5;28mfilter\u001b[39m)\n\u001b[0;32m      5\u001b[0m     gemeenten\u001b[38;5;241m.\u001b[39mat[i, \u001b[38;5;124mf\u001b[39m\u001b[38;5;124m\"\u001b[39m\u001b[38;5;124mtotal_amenities_\u001b[39m\u001b[38;5;132;01m{\u001b[39;00m\u001b[38;5;28mfilter\u001b[39m\u001b[38;5;132;01m}\u001b[39;00m\u001b[38;5;124m\"\u001b[39m] \u001b[38;5;241m=\u001b[39m total_amenities\n\u001b[0;32m      6\u001b[0m     gemeenten\u001b[38;5;241m.\u001b[39mat[i, \u001b[38;5;124mf\u001b[39m\u001b[38;5;124m\"\u001b[39m\u001b[38;5;124mL0_altieri_\u001b[39m\u001b[38;5;132;01m{\u001b[39;00m\u001b[38;5;28mfilter\u001b[39m\u001b[38;5;132;01m}\u001b[39;00m\u001b[38;5;124m\"\u001b[39m] \u001b[38;5;241m=\u001b[39m L0_entropy_alt\n",
      "\u001b[1;31mKeyboardInterrupt\u001b[0m: "
     ]
    }
   ],
   "source": [
    "for filter in [0, 1, 2]:\n",
    "    print(f\"Filter {filter}\")\n",
    "    for i, gm in tqdm(gemeenten.iterrows(), total=len(gemeenten)):\n",
    "        total_amenities, L0_entropy_alt, L1_entropy_alt, L0_entropy_lei, L1_entropy_lei = gm_total_amenities_entropy(gm[\"gemeentenaam\"], filter)\n",
    "        gemeenten.at[i, f\"total_amenities_{filter}\"] = total_amenities\n",
    "        gemeenten.at[i, f\"L0_altieri_{filter}\"] = L0_entropy_alt\n",
    "        gemeenten.at[i, f\"L1_altieri_{filter}\"] = L1_entropy_alt\n",
    "        gemeenten.at[i, f\"L0_leibovici_{filter}\"] = L0_entropy_lei\n",
    "        gemeenten.at[i, f\"L1_leibovici_{filter}\"] = L1_entropy_lei\n",
    "        \n",
    "        del total_amenities, L0_entropy_alt, L1_entropy_alt, L0_entropy_lei, L1_entropy_lei \n",
    "        gc.collect()\n",
    "    \n",
    "gemeenten.to_parquet(f\"data/gemeenten_parts/calculated/gemeenten_{part}.parquet\")\n"
   ]
  }
 ],
 "metadata": {
  "kernelspec": {
   "display_name": "scriptie_38",
   "language": "python",
   "name": "python3"
  },
  "language_info": {
   "codemirror_mode": {
    "name": "ipython",
    "version": 3
   },
   "file_extension": ".py",
   "mimetype": "text/x-python",
   "name": "python",
   "nbconvert_exporter": "python",
   "pygments_lexer": "ipython3",
   "version": "3.8.19"
  }
 },
 "nbformat": 4,
 "nbformat_minor": 2
}
