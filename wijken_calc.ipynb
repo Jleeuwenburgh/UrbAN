{
 "cells": [
  {
   "cell_type": "code",
   "execution_count": 6,
   "metadata": {},
   "outputs": [],
   "source": [
    "import geopandas as gpd\n",
    "import pandas as pd\n",
    "import classes.entropycalculator as ec\n",
    "from spatialentropy import altieri_entropy, leibovici_entropy\n",
    "from scipy.stats import entropy\n",
    "import numpy as np\n",
    "import gc\n",
    "import shapely\n",
    "\n",
    "from IPython.display import clear_output\n",
    "\n",
    "from tqdm import tqdm\n",
    "tqdm.pandas()\n"
   ]
  },
  {
   "cell_type": "code",
   "execution_count": 12,
   "metadata": {},
   "outputs": [
    {
     "data": {
      "text/html": [
       "<div>\n",
       "<style scoped>\n",
       "    .dataframe tbody tr th:only-of-type {\n",
       "        vertical-align: middle;\n",
       "    }\n",
       "\n",
       "    .dataframe tbody tr th {\n",
       "        vertical-align: top;\n",
       "    }\n",
       "\n",
       "    .dataframe thead th {\n",
       "        text-align: right;\n",
       "    }\n",
       "</style>\n",
       "<table border=\"1\" class=\"dataframe\">\n",
       "  <thead>\n",
       "    <tr style=\"text-align: right;\">\n",
       "      <th></th>\n",
       "      <th>wijkcode</th>\n",
       "      <th>wijknaam</th>\n",
       "      <th>gemeentecode</th>\n",
       "      <th>gemeentenaam</th>\n",
       "      <th>IND_WBI</th>\n",
       "      <th>H2O</th>\n",
       "      <th>OAD</th>\n",
       "      <th>STED</th>\n",
       "      <th>BEV_DICHTH</th>\n",
       "      <th>AANT_INW</th>\n",
       "      <th>...</th>\n",
       "      <th>P_GEBBL_EU</th>\n",
       "      <th>P_GEBBL_NE</th>\n",
       "      <th>OPP_TOT</th>\n",
       "      <th>OPP_LAND</th>\n",
       "      <th>OPP_WATER</th>\n",
       "      <th>JRSTATCODE</th>\n",
       "      <th>JAAR</th>\n",
       "      <th>layer</th>\n",
       "      <th>path</th>\n",
       "      <th>geometry</th>\n",
       "    </tr>\n",
       "  </thead>\n",
       "  <tbody>\n",
       "    <tr>\n",
       "      <th>0</th>\n",
       "      <td>WK001400</td>\n",
       "      <td>Centrum</td>\n",
       "      <td>GM0014</td>\n",
       "      <td>Groningen</td>\n",
       "      <td>1.0</td>\n",
       "      <td>NEE</td>\n",
       "      <td>6647.0</td>\n",
       "      <td>1.0</td>\n",
       "      <td>10132.0</td>\n",
       "      <td>23150.0</td>\n",
       "      <td>...</td>\n",
       "      <td>16.0</td>\n",
       "      <td>12.0</td>\n",
       "      <td>241.0</td>\n",
       "      <td>228.0</td>\n",
       "      <td>13.0</td>\n",
       "      <td>2023WK001400</td>\n",
       "      <td>2023</td>\n",
       "      <td>2023 — wijk_2023_v1zw</td>\n",
       "      <td>\\\\cbsp.nl\\Productie\\primair\\TOP\\Werk\\KWB_buurt...</td>\n",
       "      <td>POLYGON ((6.56023 53.22768, 6.56086 53.22668, ...</td>\n",
       "    </tr>\n",
       "  </tbody>\n",
       "</table>\n",
       "<p>1 rows × 42 columns</p>\n",
       "</div>"
      ],
      "text/plain": [
       "   wijkcode wijknaam gemeentecode gemeentenaam  IND_WBI  H2O     OAD  STED  \\\n",
       "0  WK001400  Centrum       GM0014    Groningen      1.0  NEE  6647.0   1.0   \n",
       "\n",
       "   BEV_DICHTH  AANT_INW  ...  P_GEBBL_EU  P_GEBBL_NE  OPP_TOT  OPP_LAND  \\\n",
       "0     10132.0   23150.0  ...        16.0        12.0    241.0     228.0   \n",
       "\n",
       "   OPP_WATER    JRSTATCODE  JAAR                  layer  \\\n",
       "0       13.0  2023WK001400  2023  2023 — wijk_2023_v1zw   \n",
       "\n",
       "                                                path  \\\n",
       "0  \\\\cbsp.nl\\Productie\\primair\\TOP\\Werk\\KWB_buurt...   \n",
       "\n",
       "                                            geometry  \n",
       "0  POLYGON ((6.56023 53.22768, 6.56086 53.22668, ...  \n",
       "\n",
       "[1 rows x 42 columns]"
      ]
     },
     "execution_count": 12,
     "metadata": {},
     "output_type": "execute_result"
    }
   ],
   "source": [
    "gemeenten = gpd.read_parquet(\"data/gemeenten_amenities.parquet\")\n",
    "wijken = gpd.read_parquet(\"data/wijken.parquet\")\n",
    "\n",
    "wijken.head(1)\n"
   ]
  },
  {
   "cell_type": "code",
   "execution_count": 9,
   "metadata": {},
   "outputs": [],
   "source": [
    "def _get_shannon_entropy(labels, base=2):\n",
    "    # get the total count of the labels\n",
    "    total_count = len(labels)\n",
    "    # get the unique labels and their counts\n",
    "    _, label_counts = np.unique(labels, return_counts=True)\n",
    "\n",
    "    probs = label_counts / total_count\n",
    "    # get the entropy\n",
    "    return entropy(probs, base=base)\n",
    "\n",
    "def wk_total_amenities_entropy(gm_name, wijkarea, filter_i):\n",
    "    L0_BLACKLIST, L1_BLACKLIST = ec.getfilter(filter_i)\n",
    "    amenity_gdf = gpd.read_parquet(f\"data/gm_amenities/amenities_{gm_name}.parquet\")\n",
    "    \n",
    "    # filter out amenities not in the wijk\n",
    "    amenity_gdf = amenity_gdf[amenity_gdf.within(wijkarea)]\n",
    "    amenity_gdf.reset_index(drop=True, inplace=True)\n",
    "    \n",
    "    # apply filters\n",
    "    amenity_gdf = amenity_gdf[~amenity_gdf.L0_category.isin(L0_BLACKLIST)]\n",
    "    if L1_BLACKLIST:\n",
    "        for key, value in L1_BLACKLIST.items():\n",
    "            amenity_gdf = amenity_gdf[\n",
    "                ~(\n",
    "                    (amenity_gdf.L0_category == key)\n",
    "                    & (amenity_gdf.L1_category.isin(value))\n",
    "                )\n",
    "            ]\n",
    "    \n",
    "    # total number of amenities\n",
    "    total_amenities = len(amenity_gdf)\n",
    "    \n",
    "    points = [[point.x, point.y] for point in amenity_gdf.geometry]\n",
    "    \n",
    "    # calculate entropy\n",
    "    L0 = amenity_gdf.loc[:, f\"L0_category\"].values\n",
    "    L1 = amenity_gdf.loc[:, f\"L1_category\"].values\n",
    "    L0_entropy = _get_shannon_entropy(L0, base=2)\n",
    "    L1_entropy = _get_shannon_entropy(L1, base=2)\n",
    "    # L0_entropy = altieri_entropy(points, L0, base=2).entropy\n",
    "    # L1_entropy = altieri_entropy(points, L1, base=2).entropy\n",
    "    \n",
    "    del points\n",
    "    gc.collect()\n",
    "    \n",
    "    return total_amenities, L0_entropy, L1_entropy"
   ]
  },
  {
   "cell_type": "code",
   "execution_count": 14,
   "metadata": {},
   "outputs": [
    {
     "name": "stderr",
     "output_type": "stream",
     "text": [
      " 29%|██▉       | 965/3324 [32:55<1:20:28,  2.05s/it] \n"
     ]
    },
    {
     "ename": "KeyboardInterrupt",
     "evalue": "",
     "output_type": "error",
     "traceback": [
      "\u001b[1;31m---------------------------------------------------------------------------\u001b[0m",
      "\u001b[1;31mKeyboardInterrupt\u001b[0m                         Traceback (most recent call last)",
      "Cell \u001b[1;32mIn[14], line 5\u001b[0m\n\u001b[0;32m      3\u001b[0m gm_name \u001b[38;5;241m=\u001b[39m wijk\u001b[38;5;241m.\u001b[39mgemeentenaam\n\u001b[0;32m      4\u001b[0m wijkarea \u001b[38;5;241m=\u001b[39m wijk\u001b[38;5;241m.\u001b[39mgeometry\n\u001b[1;32m----> 5\u001b[0m total_amenities, L0_entropy, L1_entropy \u001b[38;5;241m=\u001b[39m \u001b[43mwk_total_amenities_entropy\u001b[49m\u001b[43m(\u001b[49m\u001b[43mgm_name\u001b[49m\u001b[43m,\u001b[49m\u001b[43m \u001b[49m\u001b[43mwijkarea\u001b[49m\u001b[43m,\u001b[49m\u001b[43m \u001b[49m\u001b[38;5;28;43mfilter\u001b[39;49m\u001b[43m)\u001b[49m\n\u001b[0;32m      7\u001b[0m wijken\u001b[38;5;241m.\u001b[39mat[i, \u001b[38;5;124mf\u001b[39m\u001b[38;5;124m\"\u001b[39m\u001b[38;5;124mtotal_amenities_\u001b[39m\u001b[38;5;132;01m{\u001b[39;00m\u001b[38;5;28mfilter\u001b[39m\u001b[38;5;132;01m}\u001b[39;00m\u001b[38;5;124m\"\u001b[39m] \u001b[38;5;241m=\u001b[39m total_amenities\n\u001b[0;32m      8\u001b[0m wijken\u001b[38;5;241m.\u001b[39mat[i, \u001b[38;5;124mf\u001b[39m\u001b[38;5;124m\"\u001b[39m\u001b[38;5;124mL0_shannon_\u001b[39m\u001b[38;5;132;01m{\u001b[39;00m\u001b[38;5;28mfilter\u001b[39m\u001b[38;5;132;01m}\u001b[39;00m\u001b[38;5;124m\"\u001b[39m] \u001b[38;5;241m=\u001b[39m L0_entropy\n",
      "Cell \u001b[1;32mIn[9], line 13\u001b[0m, in \u001b[0;36mwk_total_amenities_entropy\u001b[1;34m(gm_name, wijkarea, filter_i)\u001b[0m\n\u001b[0;32m     11\u001b[0m \u001b[38;5;28;01mdef\u001b[39;00m \u001b[38;5;21mwk_total_amenities_entropy\u001b[39m(gm_name, wijkarea, filter_i):\n\u001b[0;32m     12\u001b[0m     L0_BLACKLIST, L1_BLACKLIST \u001b[38;5;241m=\u001b[39m ec\u001b[38;5;241m.\u001b[39mgetfilter(filter_i)\n\u001b[1;32m---> 13\u001b[0m     amenity_gdf \u001b[38;5;241m=\u001b[39m \u001b[43mgpd\u001b[49m\u001b[38;5;241;43m.\u001b[39;49m\u001b[43mread_parquet\u001b[49m\u001b[43m(\u001b[49m\u001b[38;5;124;43mf\u001b[39;49m\u001b[38;5;124;43m\"\u001b[39;49m\u001b[38;5;124;43mdata/gm_amenities/amenities_\u001b[39;49m\u001b[38;5;132;43;01m{\u001b[39;49;00m\u001b[43mgm_name\u001b[49m\u001b[38;5;132;43;01m}\u001b[39;49;00m\u001b[38;5;124;43m.parquet\u001b[39;49m\u001b[38;5;124;43m\"\u001b[39;49m\u001b[43m)\u001b[49m\n\u001b[0;32m     15\u001b[0m     \u001b[38;5;66;03m# filter out amenities not in the wijk\u001b[39;00m\n\u001b[0;32m     16\u001b[0m     amenity_gdf \u001b[38;5;241m=\u001b[39m amenity_gdf[amenity_gdf\u001b[38;5;241m.\u001b[39mwithin(wijkarea)]\n",
      "File \u001b[1;32mc:\\Users\\joepl\\anaconda3\\envs\\scriptie_38\\lib\\site-packages\\geopandas\\io\\arrow.py:617\u001b[0m, in \u001b[0;36m_read_parquet\u001b[1;34m(path, columns, storage_options, **kwargs)\u001b[0m\n\u001b[0;32m    614\u001b[0m     \u001b[38;5;28;01mexcept\u001b[39;00m \u001b[38;5;167;01mException\u001b[39;00m:\n\u001b[0;32m    615\u001b[0m         \u001b[38;5;28;01mpass\u001b[39;00m\n\u001b[1;32m--> 617\u001b[0m \u001b[38;5;28;01mreturn\u001b[39;00m \u001b[43m_arrow_to_geopandas\u001b[49m\u001b[43m(\u001b[49m\u001b[43mtable\u001b[49m\u001b[43m,\u001b[49m\u001b[43m \u001b[49m\u001b[43mmetadata\u001b[49m\u001b[43m)\u001b[49m\n",
      "File \u001b[1;32mc:\\Users\\joepl\\anaconda3\\envs\\scriptie_38\\lib\\site-packages\\geopandas\\io\\arrow.py:402\u001b[0m, in \u001b[0;36m_arrow_to_geopandas\u001b[1;34m(table, metadata)\u001b[0m\n\u001b[0;32m    398\u001b[0m \u001b[38;5;28;01mdef\u001b[39;00m \u001b[38;5;21m_arrow_to_geopandas\u001b[39m(table, metadata\u001b[38;5;241m=\u001b[39m\u001b[38;5;28;01mNone\u001b[39;00m):\n\u001b[0;32m    399\u001b[0m \u001b[38;5;250m    \u001b[39m\u001b[38;5;124;03m\"\"\"\u001b[39;00m\n\u001b[0;32m    400\u001b[0m \u001b[38;5;124;03m    Helper function with main, shared logic for read_parquet/read_feather.\u001b[39;00m\n\u001b[0;32m    401\u001b[0m \u001b[38;5;124;03m    \"\"\"\u001b[39;00m\n\u001b[1;32m--> 402\u001b[0m     df \u001b[38;5;241m=\u001b[39m \u001b[43mtable\u001b[49m\u001b[38;5;241;43m.\u001b[39;49m\u001b[43mto_pandas\u001b[49m\u001b[43m(\u001b[49m\u001b[43m)\u001b[49m\n\u001b[0;32m    404\u001b[0m     metadata \u001b[38;5;241m=\u001b[39m metadata \u001b[38;5;129;01mor\u001b[39;00m table\u001b[38;5;241m.\u001b[39mschema\u001b[38;5;241m.\u001b[39mmetadata\n\u001b[0;32m    406\u001b[0m     \u001b[38;5;28;01mif\u001b[39;00m metadata \u001b[38;5;129;01mis\u001b[39;00m \u001b[38;5;28;01mNone\u001b[39;00m \u001b[38;5;129;01mor\u001b[39;00m \u001b[38;5;124mb\u001b[39m\u001b[38;5;124m\"\u001b[39m\u001b[38;5;124mgeo\u001b[39m\u001b[38;5;124m\"\u001b[39m \u001b[38;5;129;01mnot\u001b[39;00m \u001b[38;5;129;01min\u001b[39;00m metadata:\n",
      "File \u001b[1;32mc:\\Users\\joepl\\anaconda3\\envs\\scriptie_38\\lib\\site-packages\\pyarrow\\array.pxi:872\u001b[0m, in \u001b[0;36mpyarrow.lib._PandasConvertible.to_pandas\u001b[1;34m()\u001b[0m\n",
      "File \u001b[1;32mc:\\Users\\joepl\\anaconda3\\envs\\scriptie_38\\lib\\site-packages\\pyarrow\\table.pxi:4904\u001b[0m, in \u001b[0;36mpyarrow.lib.Table._to_pandas\u001b[1;34m()\u001b[0m\n",
      "File \u001b[1;32mc:\\Users\\joepl\\anaconda3\\envs\\scriptie_38\\lib\\site-packages\\pyarrow\\pandas_compat.py:779\u001b[0m, in \u001b[0;36mtable_to_dataframe\u001b[1;34m(options, table, categories, ignore_metadata, types_mapper)\u001b[0m\n\u001b[0;32m    776\u001b[0m columns \u001b[38;5;241m=\u001b[39m _deserialize_column_index(table, all_columns, column_indexes)\n\u001b[0;32m    778\u001b[0m column_names \u001b[38;5;241m=\u001b[39m table\u001b[38;5;241m.\u001b[39mcolumn_names\n\u001b[1;32m--> 779\u001b[0m result \u001b[38;5;241m=\u001b[39m \u001b[43mpa\u001b[49m\u001b[38;5;241;43m.\u001b[39;49m\u001b[43mlib\u001b[49m\u001b[38;5;241;43m.\u001b[39;49m\u001b[43mtable_to_blocks\u001b[49m\u001b[43m(\u001b[49m\u001b[43moptions\u001b[49m\u001b[43m,\u001b[49m\u001b[43m \u001b[49m\u001b[43mtable\u001b[49m\u001b[43m,\u001b[49m\u001b[43m \u001b[49m\u001b[43mcategories\u001b[49m\u001b[43m,\u001b[49m\n\u001b[0;32m    780\u001b[0m \u001b[43m                                \u001b[49m\u001b[38;5;28;43mlist\u001b[39;49m\u001b[43m(\u001b[49m\u001b[43mext_columns_dtypes\u001b[49m\u001b[38;5;241;43m.\u001b[39;49m\u001b[43mkeys\u001b[49m\u001b[43m(\u001b[49m\u001b[43m)\u001b[49m\u001b[43m)\u001b[49m\u001b[43m)\u001b[49m\n\u001b[0;32m    781\u001b[0m \u001b[38;5;28;01mif\u001b[39;00m _pandas_api\u001b[38;5;241m.\u001b[39mis_ge_v3():\n\u001b[0;32m    782\u001b[0m     \u001b[38;5;28;01mfrom\u001b[39;00m \u001b[38;5;21;01mpandas\u001b[39;00m\u001b[38;5;21;01m.\u001b[39;00m\u001b[38;5;21;01mapi\u001b[39;00m\u001b[38;5;21;01m.\u001b[39;00m\u001b[38;5;21;01minternals\u001b[39;00m \u001b[38;5;28;01mimport\u001b[39;00m create_dataframe_from_blocks\n",
      "\u001b[1;31mKeyboardInterrupt\u001b[0m: "
     ]
    }
   ],
   "source": [
    "for filter in [0, 1, 2]:\n",
    "    for i, wijk in tqdm(wijken.iterrows(), total=len(wijken)):\n",
    "        gm_name = wijk.gemeentenaam\n",
    "        wijkarea = wijk.geometry\n",
    "        total_amenities, L0_entropy, L1_entropy = wk_total_amenities_entropy(gm_name, wijkarea, filter)\n",
    "        \n",
    "        wijken.at[i, f\"total_amenities_{filter}\"] = total_amenities\n",
    "        wijken.at[i, f\"L0_shannon_{filter}\"] = L0_entropy\n",
    "        wijken.at[i, f\"L1_shannon_{filter}\"] = L1_entropy\n",
    "        \n",
    "        del total_amenities, L0_entropy, L1_entropy\n",
    "        gc.collect()\n",
    "\n",
    "wijken.to_parquet(\"data/wijken_entropy.parquet\")"
   ]
  },
  {
   "cell_type": "code",
   "execution_count": null,
   "metadata": {},
   "outputs": [],
   "source": [
    "wijken"
   ]
  }
 ],
 "metadata": {
  "kernelspec": {
   "display_name": "scriptie_38",
   "language": "python",
   "name": "python3"
  },
  "language_info": {
   "codemirror_mode": {
    "name": "ipython",
    "version": 3
   },
   "file_extension": ".py",
   "mimetype": "text/x-python",
   "name": "python",
   "nbconvert_exporter": "python",
   "pygments_lexer": "ipython3",
   "version": "3.8.19"
  }
 },
 "nbformat": 4,
 "nbformat_minor": 2
}
