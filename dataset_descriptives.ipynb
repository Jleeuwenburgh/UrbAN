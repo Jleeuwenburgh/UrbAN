{
 "cells": [
  {
   "cell_type": "code",
   "execution_count": 325,
   "metadata": {},
   "outputs": [
    {
     "data": {
      "text/html": [
       "<div>\n",
       "<style scoped>\n",
       "    .dataframe tbody tr th:only-of-type {\n",
       "        vertical-align: middle;\n",
       "    }\n",
       "\n",
       "    .dataframe tbody tr th {\n",
       "        vertical-align: top;\n",
       "    }\n",
       "\n",
       "    .dataframe thead th {\n",
       "        text-align: right;\n",
       "    }\n",
       "</style>\n",
       "<table border=\"1\" class=\"dataframe\">\n",
       "  <thead>\n",
       "    <tr style=\"text-align: right;\">\n",
       "      <th></th>\n",
       "      <th>buurtcode</th>\n",
       "      <th>buurtnaam</th>\n",
       "      <th>wijkcode</th>\n",
       "      <th>gemeentecode_x</th>\n",
       "      <th>gemeentenaam</th>\n",
       "      <th>IND_WBI</th>\n",
       "      <th>H2O</th>\n",
       "      <th>POSTCODE</th>\n",
       "      <th>DEK_PERC</th>\n",
       "      <th>OAD</th>\n",
       "      <th>...</th>\n",
       "      <th>L0_2_count_Bars and cafes</th>\n",
       "      <th>L0_2_count_Stands and takeaway</th>\n",
       "      <th>L0_2_count_Bus, tram and metro</th>\n",
       "      <th>L0_2_count_Public transport</th>\n",
       "      <th>L0_2_count_Cycling</th>\n",
       "      <th>L0_2_count_Services</th>\n",
       "      <th>L0_2_count_Fuel and charge</th>\n",
       "      <th>L0_2_count_Parking</th>\n",
       "      <th>L0_2_count_Train</th>\n",
       "      <th>L0_2_count_Waste management</th>\n",
       "    </tr>\n",
       "  </thead>\n",
       "  <tbody>\n",
       "    <tr>\n",
       "      <th>0</th>\n",
       "      <td>BU00140000</td>\n",
       "      <td>Binnenstad-Noord</td>\n",
       "      <td>WK001400</td>\n",
       "      <td>GM0014</td>\n",
       "      <td>Groningen</td>\n",
       "      <td>1.0</td>\n",
       "      <td>NEE</td>\n",
       "      <td>9712</td>\n",
       "      <td>1.0</td>\n",
       "      <td>6865.0</td>\n",
       "      <td>...</td>\n",
       "      <td>50.0</td>\n",
       "      <td>1.0</td>\n",
       "      <td>1.0</td>\n",
       "      <td>0.0</td>\n",
       "      <td>0.0</td>\n",
       "      <td>0.0</td>\n",
       "      <td>0.0</td>\n",
       "      <td>0.0</td>\n",
       "      <td>0.0</td>\n",
       "      <td>0.0</td>\n",
       "    </tr>\n",
       "    <tr>\n",
       "      <th>1</th>\n",
       "      <td>BU00140001</td>\n",
       "      <td>Binnenstad-Zuid</td>\n",
       "      <td>WK001400</td>\n",
       "      <td>GM0014</td>\n",
       "      <td>Groningen</td>\n",
       "      <td>1.0</td>\n",
       "      <td>NEE</td>\n",
       "      <td>9711</td>\n",
       "      <td>1.0</td>\n",
       "      <td>6586.0</td>\n",
       "      <td>...</td>\n",
       "      <td>99.0</td>\n",
       "      <td>3.0</td>\n",
       "      <td>12.0</td>\n",
       "      <td>0.0</td>\n",
       "      <td>0.0</td>\n",
       "      <td>0.0</td>\n",
       "      <td>0.0</td>\n",
       "      <td>0.0</td>\n",
       "      <td>0.0</td>\n",
       "      <td>0.0</td>\n",
       "    </tr>\n",
       "    <tr>\n",
       "      <th>2</th>\n",
       "      <td>BU00140002</td>\n",
       "      <td>Binnenstad-Oost</td>\n",
       "      <td>WK001400</td>\n",
       "      <td>GM0014</td>\n",
       "      <td>Groningen</td>\n",
       "      <td>1.0</td>\n",
       "      <td>NEE</td>\n",
       "      <td>9711</td>\n",
       "      <td>3.0</td>\n",
       "      <td>6264.0</td>\n",
       "      <td>...</td>\n",
       "      <td>7.0</td>\n",
       "      <td>0.0</td>\n",
       "      <td>7.0</td>\n",
       "      <td>0.0</td>\n",
       "      <td>0.0</td>\n",
       "      <td>0.0</td>\n",
       "      <td>0.0</td>\n",
       "      <td>0.0</td>\n",
       "      <td>0.0</td>\n",
       "      <td>0.0</td>\n",
       "    </tr>\n",
       "    <tr>\n",
       "      <th>3</th>\n",
       "      <td>BU00140003</td>\n",
       "      <td>Binnenstad-West</td>\n",
       "      <td>WK001400</td>\n",
       "      <td>GM0014</td>\n",
       "      <td>Groningen</td>\n",
       "      <td>1.0</td>\n",
       "      <td>NEE</td>\n",
       "      <td>9718</td>\n",
       "      <td>1.0</td>\n",
       "      <td>6576.0</td>\n",
       "      <td>...</td>\n",
       "      <td>4.0</td>\n",
       "      <td>0.0</td>\n",
       "      <td>3.0</td>\n",
       "      <td>0.0</td>\n",
       "      <td>0.0</td>\n",
       "      <td>0.0</td>\n",
       "      <td>0.0</td>\n",
       "      <td>0.0</td>\n",
       "      <td>0.0</td>\n",
       "      <td>0.0</td>\n",
       "    </tr>\n",
       "    <tr>\n",
       "      <th>4</th>\n",
       "      <td>BU00140004</td>\n",
       "      <td>Noorderplantsoen</td>\n",
       "      <td>WK001400</td>\n",
       "      <td>GM0014</td>\n",
       "      <td>Groningen</td>\n",
       "      <td>1.0</td>\n",
       "      <td>NEE</td>\n",
       "      <td>9717</td>\n",
       "      <td>2.0</td>\n",
       "      <td>6447.0</td>\n",
       "      <td>...</td>\n",
       "      <td>0.0</td>\n",
       "      <td>0.0</td>\n",
       "      <td>1.0</td>\n",
       "      <td>0.0</td>\n",
       "      <td>0.0</td>\n",
       "      <td>0.0</td>\n",
       "      <td>0.0</td>\n",
       "      <td>0.0</td>\n",
       "      <td>0.0</td>\n",
       "      <td>0.0</td>\n",
       "    </tr>\n",
       "    <tr>\n",
       "      <th>...</th>\n",
       "      <td>...</td>\n",
       "      <td>...</td>\n",
       "      <td>...</td>\n",
       "      <td>...</td>\n",
       "      <td>...</td>\n",
       "      <td>...</td>\n",
       "      <td>...</td>\n",
       "      <td>...</td>\n",
       "      <td>...</td>\n",
       "      <td>...</td>\n",
       "      <td>...</td>\n",
       "      <td>...</td>\n",
       "      <td>...</td>\n",
       "      <td>...</td>\n",
       "      <td>...</td>\n",
       "      <td>...</td>\n",
       "      <td>...</td>\n",
       "      <td>...</td>\n",
       "      <td>...</td>\n",
       "      <td>...</td>\n",
       "      <td>...</td>\n",
       "    </tr>\n",
       "    <tr>\n",
       "      <th>13938</th>\n",
       "      <td>BU19923200</td>\n",
       "      <td>Zwartewaal</td>\n",
       "      <td>WK199232</td>\n",
       "      <td>GM1992</td>\n",
       "      <td>Voorne aan Zee</td>\n",
       "      <td>2.0</td>\n",
       "      <td>NEE</td>\n",
       "      <td>3238</td>\n",
       "      <td>1.0</td>\n",
       "      <td>281.0</td>\n",
       "      <td>...</td>\n",
       "      <td>0.0</td>\n",
       "      <td>0.0</td>\n",
       "      <td>2.0</td>\n",
       "      <td>0.0</td>\n",
       "      <td>0.0</td>\n",
       "      <td>0.0</td>\n",
       "      <td>0.0</td>\n",
       "      <td>0.0</td>\n",
       "      <td>0.0</td>\n",
       "      <td>0.0</td>\n",
       "    </tr>\n",
       "    <tr>\n",
       "      <th>13939</th>\n",
       "      <td>BU19923201</td>\n",
       "      <td>Tuindorp-Hofstede</td>\n",
       "      <td>WK199232</td>\n",
       "      <td>GM1992</td>\n",
       "      <td>Voorne aan Zee</td>\n",
       "      <td>2.0</td>\n",
       "      <td>NEE</td>\n",
       "      <td>3238</td>\n",
       "      <td>3.0</td>\n",
       "      <td>284.0</td>\n",
       "      <td>...</td>\n",
       "      <td>0.0</td>\n",
       "      <td>0.0</td>\n",
       "      <td>0.0</td>\n",
       "      <td>0.0</td>\n",
       "      <td>0.0</td>\n",
       "      <td>0.0</td>\n",
       "      <td>0.0</td>\n",
       "      <td>0.0</td>\n",
       "      <td>0.0</td>\n",
       "      <td>0.0</td>\n",
       "    </tr>\n",
       "    <tr>\n",
       "      <th>13940</th>\n",
       "      <td>BU19923202</td>\n",
       "      <td>Zalmlaan</td>\n",
       "      <td>WK199232</td>\n",
       "      <td>GM1992</td>\n",
       "      <td>Voorne aan Zee</td>\n",
       "      <td>2.0</td>\n",
       "      <td>NEE</td>\n",
       "      <td>3238</td>\n",
       "      <td>1.0</td>\n",
       "      <td>278.0</td>\n",
       "      <td>...</td>\n",
       "      <td>0.0</td>\n",
       "      <td>0.0</td>\n",
       "      <td>0.0</td>\n",
       "      <td>0.0</td>\n",
       "      <td>0.0</td>\n",
       "      <td>0.0</td>\n",
       "      <td>0.0</td>\n",
       "      <td>0.0</td>\n",
       "      <td>0.0</td>\n",
       "      <td>0.0</td>\n",
       "    </tr>\n",
       "    <tr>\n",
       "      <th>13941</th>\n",
       "      <td>BU19923209</td>\n",
       "      <td>Verspreide huizen</td>\n",
       "      <td>WK199232</td>\n",
       "      <td>GM1992</td>\n",
       "      <td>Voorne aan Zee</td>\n",
       "      <td>2.0</td>\n",
       "      <td>NEE</td>\n",
       "      <td>3238</td>\n",
       "      <td>1.0</td>\n",
       "      <td>95.0</td>\n",
       "      <td>...</td>\n",
       "      <td>1.0</td>\n",
       "      <td>0.0</td>\n",
       "      <td>4.0</td>\n",
       "      <td>0.0</td>\n",
       "      <td>0.0</td>\n",
       "      <td>0.0</td>\n",
       "      <td>0.0</td>\n",
       "      <td>0.0</td>\n",
       "      <td>0.0</td>\n",
       "      <td>0.0</td>\n",
       "    </tr>\n",
       "    <tr>\n",
       "      <th>13942</th>\n",
       "      <td>BU19923300</td>\n",
       "      <td>Recreatiestrook Brielse Maas</td>\n",
       "      <td>WK199233</td>\n",
       "      <td>GM1992</td>\n",
       "      <td>Voorne aan Zee</td>\n",
       "      <td>2.0</td>\n",
       "      <td>NEE</td>\n",
       "      <td>3231</td>\n",
       "      <td>1.0</td>\n",
       "      <td>84.0</td>\n",
       "      <td>...</td>\n",
       "      <td>0.0</td>\n",
       "      <td>0.0</td>\n",
       "      <td>0.0</td>\n",
       "      <td>1.0</td>\n",
       "      <td>0.0</td>\n",
       "      <td>0.0</td>\n",
       "      <td>0.0</td>\n",
       "      <td>0.0</td>\n",
       "      <td>0.0</td>\n",
       "      <td>0.0</td>\n",
       "    </tr>\n",
       "  </tbody>\n",
       "</table>\n",
       "<p>13943 rows × 301 columns</p>\n",
       "</div>"
      ],
      "text/plain": [
       "        buurtcode                     buurtnaam  wijkcode gemeentecode_x  \\\n",
       "0      BU00140000              Binnenstad-Noord  WK001400         GM0014   \n",
       "1      BU00140001               Binnenstad-Zuid  WK001400         GM0014   \n",
       "2      BU00140002               Binnenstad-Oost  WK001400         GM0014   \n",
       "3      BU00140003               Binnenstad-West  WK001400         GM0014   \n",
       "4      BU00140004              Noorderplantsoen  WK001400         GM0014   \n",
       "...           ...                           ...       ...            ...   \n",
       "13938  BU19923200                    Zwartewaal  WK199232         GM1992   \n",
       "13939  BU19923201             Tuindorp-Hofstede  WK199232         GM1992   \n",
       "13940  BU19923202                      Zalmlaan  WK199232         GM1992   \n",
       "13941  BU19923209             Verspreide huizen  WK199232         GM1992   \n",
       "13942  BU19923300  Recreatiestrook Brielse Maas  WK199233         GM1992   \n",
       "\n",
       "         gemeentenaam  IND_WBI  H2O POSTCODE  DEK_PERC     OAD  ...  \\\n",
       "0           Groningen      1.0  NEE     9712       1.0  6865.0  ...   \n",
       "1           Groningen      1.0  NEE     9711       1.0  6586.0  ...   \n",
       "2           Groningen      1.0  NEE     9711       3.0  6264.0  ...   \n",
       "3           Groningen      1.0  NEE     9718       1.0  6576.0  ...   \n",
       "4           Groningen      1.0  NEE     9717       2.0  6447.0  ...   \n",
       "...               ...      ...  ...      ...       ...     ...  ...   \n",
       "13938  Voorne aan Zee      2.0  NEE     3238       1.0   281.0  ...   \n",
       "13939  Voorne aan Zee      2.0  NEE     3238       3.0   284.0  ...   \n",
       "13940  Voorne aan Zee      2.0  NEE     3238       1.0   278.0  ...   \n",
       "13941  Voorne aan Zee      2.0  NEE     3238       1.0    95.0  ...   \n",
       "13942  Voorne aan Zee      2.0  NEE     3231       1.0    84.0  ...   \n",
       "\n",
       "       L0_2_count_Bars and cafes  L0_2_count_Stands and takeaway  \\\n",
       "0                           50.0                             1.0   \n",
       "1                           99.0                             3.0   \n",
       "2                            7.0                             0.0   \n",
       "3                            4.0                             0.0   \n",
       "4                            0.0                             0.0   \n",
       "...                          ...                             ...   \n",
       "13938                        0.0                             0.0   \n",
       "13939                        0.0                             0.0   \n",
       "13940                        0.0                             0.0   \n",
       "13941                        1.0                             0.0   \n",
       "13942                        0.0                             0.0   \n",
       "\n",
       "       L0_2_count_Bus, tram and metro  L0_2_count_Public transport  \\\n",
       "0                                 1.0                          0.0   \n",
       "1                                12.0                          0.0   \n",
       "2                                 7.0                          0.0   \n",
       "3                                 3.0                          0.0   \n",
       "4                                 1.0                          0.0   \n",
       "...                               ...                          ...   \n",
       "13938                             2.0                          0.0   \n",
       "13939                             0.0                          0.0   \n",
       "13940                             0.0                          0.0   \n",
       "13941                             4.0                          0.0   \n",
       "13942                             0.0                          1.0   \n",
       "\n",
       "       L0_2_count_Cycling  L0_2_count_Services  L0_2_count_Fuel and charge  \\\n",
       "0                     0.0                  0.0                         0.0   \n",
       "1                     0.0                  0.0                         0.0   \n",
       "2                     0.0                  0.0                         0.0   \n",
       "3                     0.0                  0.0                         0.0   \n",
       "4                     0.0                  0.0                         0.0   \n",
       "...                   ...                  ...                         ...   \n",
       "13938                 0.0                  0.0                         0.0   \n",
       "13939                 0.0                  0.0                         0.0   \n",
       "13940                 0.0                  0.0                         0.0   \n",
       "13941                 0.0                  0.0                         0.0   \n",
       "13942                 0.0                  0.0                         0.0   \n",
       "\n",
       "       L0_2_count_Parking  L0_2_count_Train  L0_2_count_Waste management  \n",
       "0                     0.0               0.0                          0.0  \n",
       "1                     0.0               0.0                          0.0  \n",
       "2                     0.0               0.0                          0.0  \n",
       "3                     0.0               0.0                          0.0  \n",
       "4                     0.0               0.0                          0.0  \n",
       "...                   ...               ...                          ...  \n",
       "13938                 0.0               0.0                          0.0  \n",
       "13939                 0.0               0.0                          0.0  \n",
       "13940                 0.0               0.0                          0.0  \n",
       "13941                 0.0               0.0                          0.0  \n",
       "13942                 0.0               0.0                          0.0  \n",
       "\n",
       "[13943 rows x 301 columns]"
      ]
     },
     "execution_count": 325,
     "metadata": {},
     "output_type": "execute_result"
    }
   ],
   "source": [
    "import geopandas as gpd\n",
    "import pandas as pd\n",
    "\n",
    "import matplotlib.pyplot as plt\n",
    "\n",
    "import re\n",
    "\n",
    "# Load the data\n",
    "gm = gpd.read_parquet('data/gemeenten/gemeenten_stats.parquet')\n",
    "gm_c = pd.read_parquet('data/gemeenten/gemeenten_counts.parquet')\n",
    "\n",
    "wk = gpd.read_parquet('data/wijken/wijken_stats.parquet')\n",
    "wk_c = pd.read_parquet('data/wijken/wijken_counts.parquet')\n",
    "\n",
    "bu = gpd.read_parquet('data/buurten/buurten_stats.parquet')\n",
    "bu_c = pd.read_parquet('data/buurten/buurten_counts.parquet')\n",
    "\n",
    "gm = gm.merge(gm_c, left_index=True, right_index=True)\n",
    "wk = wk.merge(wk_c, left_index=True, right_index=True)\n",
    "bu = bu.merge(bu_c, left_index=True, right_index=True)\n",
    "\n",
    "categorisation = pd.read_excel('data/categorisation.xlsx')\n",
    "\n",
    "bu"
   ]
  },
  {
   "cell_type": "code",
   "execution_count": 326,
   "metadata": {},
   "outputs": [
    {
     "data": {
      "text/plain": [
       "{'Waste management': [],\n",
       " 'Sustenance': [],\n",
       " 'Shopping': [],\n",
       " 'Sports': [],\n",
       " 'Private transportation': [],\n",
       " 'Public transportation': [],\n",
       " 'Public service': [],\n",
       " 'Facilities': [],\n",
       " 'Healthcare': [],\n",
       " 'Education': [],\n",
       " 'Places of worship': [],\n",
       " 'Entertainment, arts and culture': [],\n",
       " 'Financial': []}"
      ]
     },
     "execution_count": 326,
     "metadata": {},
     "output_type": "execute_result"
    }
   ],
   "source": [
    "maincats = set(categorisation['L0 category'].values)\n",
    "\n",
    "countdict = {cat : [] for cat in maincats}\n",
    "countdict"
   ]
  },
  {
   "cell_type": "code",
   "execution_count": 327,
   "metadata": {},
   "outputs": [
    {
     "data": {
      "text/html": [
       "<div>\n",
       "<style scoped>\n",
       "    .dataframe tbody tr th:only-of-type {\n",
       "        vertical-align: middle;\n",
       "    }\n",
       "\n",
       "    .dataframe tbody tr th {\n",
       "        vertical-align: top;\n",
       "    }\n",
       "\n",
       "    .dataframe thead th {\n",
       "        text-align: right;\n",
       "    }\n",
       "</style>\n",
       "<table border=\"1\" class=\"dataframe\">\n",
       "  <thead>\n",
       "    <tr style=\"text-align: right;\">\n",
       "      <th></th>\n",
       "      <th>total_bill</th>\n",
       "      <th>tip</th>\n",
       "      <th>sex</th>\n",
       "      <th>smoker</th>\n",
       "      <th>day</th>\n",
       "      <th>time</th>\n",
       "      <th>size</th>\n",
       "    </tr>\n",
       "  </thead>\n",
       "  <tbody>\n",
       "    <tr>\n",
       "      <th>0</th>\n",
       "      <td>16.99</td>\n",
       "      <td>1.01</td>\n",
       "      <td>Female</td>\n",
       "      <td>No</td>\n",
       "      <td>Sun</td>\n",
       "      <td>Dinner</td>\n",
       "      <td>2</td>\n",
       "    </tr>\n",
       "    <tr>\n",
       "      <th>1</th>\n",
       "      <td>10.34</td>\n",
       "      <td>1.66</td>\n",
       "      <td>Male</td>\n",
       "      <td>No</td>\n",
       "      <td>Sun</td>\n",
       "      <td>Dinner</td>\n",
       "      <td>3</td>\n",
       "    </tr>\n",
       "    <tr>\n",
       "      <th>2</th>\n",
       "      <td>21.01</td>\n",
       "      <td>3.50</td>\n",
       "      <td>Male</td>\n",
       "      <td>No</td>\n",
       "      <td>Sun</td>\n",
       "      <td>Dinner</td>\n",
       "      <td>3</td>\n",
       "    </tr>\n",
       "    <tr>\n",
       "      <th>3</th>\n",
       "      <td>23.68</td>\n",
       "      <td>3.31</td>\n",
       "      <td>Male</td>\n",
       "      <td>No</td>\n",
       "      <td>Sun</td>\n",
       "      <td>Dinner</td>\n",
       "      <td>2</td>\n",
       "    </tr>\n",
       "    <tr>\n",
       "      <th>4</th>\n",
       "      <td>24.59</td>\n",
       "      <td>3.61</td>\n",
       "      <td>Female</td>\n",
       "      <td>No</td>\n",
       "      <td>Sun</td>\n",
       "      <td>Dinner</td>\n",
       "      <td>4</td>\n",
       "    </tr>\n",
       "    <tr>\n",
       "      <th>...</th>\n",
       "      <td>...</td>\n",
       "      <td>...</td>\n",
       "      <td>...</td>\n",
       "      <td>...</td>\n",
       "      <td>...</td>\n",
       "      <td>...</td>\n",
       "      <td>...</td>\n",
       "    </tr>\n",
       "    <tr>\n",
       "      <th>239</th>\n",
       "      <td>29.03</td>\n",
       "      <td>5.92</td>\n",
       "      <td>Male</td>\n",
       "      <td>No</td>\n",
       "      <td>Sat</td>\n",
       "      <td>Dinner</td>\n",
       "      <td>3</td>\n",
       "    </tr>\n",
       "    <tr>\n",
       "      <th>240</th>\n",
       "      <td>27.18</td>\n",
       "      <td>2.00</td>\n",
       "      <td>Female</td>\n",
       "      <td>Yes</td>\n",
       "      <td>Sat</td>\n",
       "      <td>Dinner</td>\n",
       "      <td>2</td>\n",
       "    </tr>\n",
       "    <tr>\n",
       "      <th>241</th>\n",
       "      <td>22.67</td>\n",
       "      <td>2.00</td>\n",
       "      <td>Male</td>\n",
       "      <td>Yes</td>\n",
       "      <td>Sat</td>\n",
       "      <td>Dinner</td>\n",
       "      <td>2</td>\n",
       "    </tr>\n",
       "    <tr>\n",
       "      <th>242</th>\n",
       "      <td>17.82</td>\n",
       "      <td>1.75</td>\n",
       "      <td>Male</td>\n",
       "      <td>No</td>\n",
       "      <td>Sat</td>\n",
       "      <td>Dinner</td>\n",
       "      <td>2</td>\n",
       "    </tr>\n",
       "    <tr>\n",
       "      <th>243</th>\n",
       "      <td>18.78</td>\n",
       "      <td>3.00</td>\n",
       "      <td>Female</td>\n",
       "      <td>No</td>\n",
       "      <td>Thur</td>\n",
       "      <td>Dinner</td>\n",
       "      <td>2</td>\n",
       "    </tr>\n",
       "  </tbody>\n",
       "</table>\n",
       "<p>244 rows × 7 columns</p>\n",
       "</div>"
      ],
      "text/plain": [
       "     total_bill   tip     sex smoker   day    time  size\n",
       "0         16.99  1.01  Female     No   Sun  Dinner     2\n",
       "1         10.34  1.66    Male     No   Sun  Dinner     3\n",
       "2         21.01  3.50    Male     No   Sun  Dinner     3\n",
       "3         23.68  3.31    Male     No   Sun  Dinner     2\n",
       "4         24.59  3.61  Female     No   Sun  Dinner     4\n",
       "..          ...   ...     ...    ...   ...     ...   ...\n",
       "239       29.03  5.92    Male     No   Sat  Dinner     3\n",
       "240       27.18  2.00  Female    Yes   Sat  Dinner     2\n",
       "241       22.67  2.00    Male    Yes   Sat  Dinner     2\n",
       "242       17.82  1.75    Male     No   Sat  Dinner     2\n",
       "243       18.78  3.00  Female     No  Thur  Dinner     2\n",
       "\n",
       "[244 rows x 7 columns]"
      ]
     },
     "execution_count": 327,
     "metadata": {},
     "output_type": "execute_result"
    }
   ],
   "source": [
    "import plotly_express as px\n",
    "px.data.tips()"
   ]
  },
  {
   "cell_type": "code",
   "execution_count": 441,
   "metadata": {},
   "outputs": [],
   "source": [
    "L0_counts_gm = list(gm.filter(regex='L1_0_count_').columns.values)\n",
    "L0_counts_wk = list(wk.filter(regex='L0_0_count_').columns.values)\n",
    "L0_counts_bu = list(bu.filter(regex='L1_0_count_').columns.values)\n",
    "gm_ = gm[L0_counts_gm]\n",
    "wk_ = wk[L0_counts_wk]\n",
    "bu_ = bu[L0_counts_bu]\n",
    "gm_ = gm_.rename(columns={col : re.sub('L1_\\d_count_', '', col) for col in L0_counts_gm})\n",
    "wk_ = wk_.rename(columns={col : re.sub('L0_\\d_count_', '', col) for col in L0_counts_wk})\n",
    "bu_ = bu_.rename(columns={col : re.sub('L1_\\d_count_', '', col) for col in L0_counts_bu})\n",
    "\n",
    "gm_.loc[:, 'type'] = 'municipality'\n",
    "wk_.loc[:, 'type'] = 'district'\n",
    "bu_.loc[:, 'type'] = 'neighbourhood'\n",
    "\n",
    "cols = list(gm_.columns)[:-3]\n",
    "\n",
    "\n",
    "# # append all dataframes\n",
    "df = pd.concat([wk_, bu_, gm_])\n",
    "# df = wk_\n",
    "\n",
    "# cols = [col for col in cols if col in wk_.columns]\n",
    "\n"
   ]
  },
  {
   "cell_type": "code",
   "execution_count": 448,
   "metadata": {},
   "outputs": [
    {
     "name": "stderr",
     "output_type": "stream",
     "text": [
      "C:\\Users\\joepl\\AppData\\Local\\Temp\\ipykernel_25696\\1025068821.py:3: UserWarning:\n",
      "\n",
      "To output multiple subplots, the figure containing the passed axes is being cleared.\n",
      "\n",
      "C:\\Users\\joepl\\AppData\\Local\\Temp\\ipykernel_25696\\1025068821.py:6: UserWarning:\n",
      "\n",
      "Matplotlib is currently using module://matplotlib_inline.backend_inline, which is a non-GUI backend, so cannot show the figure.\n",
      "\n"
     ]
    },
    {
     "data": {
      "image/png": "[encoded data removed]",
      "text/plain": [
       "<Figure size 1000x1000 with 12 Axes>"
      ]
     },
     "metadata": {},
     "output_type": "display_data"
    }
   ],
   "source": [
    "\n",
    "fig, ax = plt.subplots(1, 1, figsize=(10, 10))\n",
    "\n",
    "df.boxplot(column=cols, by='type', ax=ax, rot=90, showfliers=False, showmeans=False, notch=False,autorange=True)\n",
    "plt.savefig('plots/boxplots.png', dpi=100)\n",
    "\n",
    "fig.show()"
   ]
  },
  {
   "cell_type": "code",
   "execution_count": 329,
   "metadata": {},
   "outputs": [
    {
     "data": {
      "application/vnd.plotly.v1+json": {
       "config": {
        "plotlyServerURL": "https://plot.ly"
       },
       "data": [
        {
         "name": "2019",
         "type": "bar",
         "x": [
          "Waste management",
          "Sustenance",
          "Shopping",
          "Sports",
          "Private transportation",
          "Public transportation",
          "Public service",
          "Facilities",
          "Healthcare",
          "Education",
          "Places of worship",
          "Entertainment, arts and culture",
          "Financial"
         ],
         "y": [
          52404,
          35308,
          68821,
          49748,
          354809,
          59647,
          16956,
          55174,
          11671,
          11826,
          6376,
          40278,
          2810
         ]
        },
        {
         "name": "2020",
         "type": "bar",
         "x": [
          "Waste management",
          "Sustenance",
          "Shopping",
          "Sports",
          "Private transportation",
          "Public transportation",
          "Public service",
          "Facilities",
          "Healthcare",
          "Education",
          "Places of worship",
          "Entertainment, arts and culture",
          "Financial"
         ],
         "y": [
          0,
          35308,
          68821,
          49748,
          0,
          59647,
          16956,
          0,
          11671,
          11826,
          6376,
          40278,
          2810
         ]
        },
        {
         "name": "2021",
         "type": "bar",
         "x": [
          "Waste management",
          "Sustenance",
          "Shopping",
          "Sports",
          "Private transportation",
          "Public transportation",
          "Public service",
          "Facilities",
          "Healthcare",
          "Education",
          "Places of worship",
          "Entertainment, arts and culture",
          "Financial"
         ],
         "y": [
          0,
          35308,
          68821,
          49748,
          0,
          59647,
          16956,
          0,
          11671,
          11826,
          6376,
          40278,
          0
         ]
        }
       ],
       "layout": {
        "barmode": "group",
        "template": {
         "data": {
          "bar": [
           {
            "error_x": {
             "color": "#2a3f5f"
            },
            "error_y": {
             "color": "#2a3f5f"
            },
            "marker": {
             "line": {
              "color": "#E5ECF6",
              "width": 0.5
             },
             "pattern": {
              "fillmode": "overlay",
              "size": 10,
              "solidity": 0.2
             }
            },
            "type": "bar"
           }
          ],
          "barpolar": [
           {
            "marker": {
             "line": {
              "color": "#E5ECF6",
              "width": 0.5
             },
             "pattern": {
              "fillmode": "overlay",
              "size": 10,
              "solidity": 0.2
             }
            },
            "type": "barpolar"
           }
          ],
          "carpet": [
           {
            "aaxis": {
             "endlinecolor": "#2a3f5f",
             "gridcolor": "white",
             "linecolor": "white",
             "minorgridcolor": "white",
             "startlinecolor": "#2a3f5f"
            },
            "baxis": {
             "endlinecolor": "#2a3f5f",
             "gridcolor": "white",
             "linecolor": "white",
             "minorgridcolor": "white",
             "startlinecolor": "#2a3f5f"
            },
            "type": "carpet"
           }
          ],
          "choropleth": [
           {
            "colorbar": {
             "outlinewidth": 0,
             "ticks": ""
            },
            "type": "choropleth"
           }
          ],
          "contour": [
           {
            "colorbar": {
             "outlinewidth": 0,
             "ticks": ""
            },
            "colorscale": [
             [
              0,
              "#0d0887"
             ],
             [
              0.1111111111111111,
              "#46039f"
             ],
             [
              0.2222222222222222,
              "#7201a8"
             ],
             [
              0.3333333333333333,
              "#9c179e"
             ],
             [
              0.4444444444444444,
              "#bd3786"
             ],
             [
              0.5555555555555556,
              "#d8576b"
             ],
             [
              0.6666666666666666,
              "#ed7953"
             ],
             [
              0.7777777777777778,
              "#fb9f3a"
             ],
             [
              0.8888888888888888,
              "#fdca26"
             ],
             [
              1,
              "#f0f921"
             ]
            ],
            "type": "contour"
           }
          ],
          "contourcarpet": [
           {
            "colorbar": {
             "outlinewidth": 0,
             "ticks": ""
            },
            "type": "contourcarpet"
           }
          ],
          "heatmap": [
           {
            "colorbar": {
             "outlinewidth": 0,
             "ticks": ""
            },
            "colorscale": [
             [
              0,
              "#0d0887"
             ],
             [
              0.1111111111111111,
              "#46039f"
             ],
             [
              0.2222222222222222,
              "#7201a8"
             ],
             [
              0.3333333333333333,
              "#9c179e"
             ],
             [
              0.4444444444444444,
              "#bd3786"
             ],
             [
              0.5555555555555556,
              "#d8576b"
             ],
             [
              0.6666666666666666,
              "#ed7953"
             ],
             [
              0.7777777777777778,
              "#fb9f3a"
             ],
             [
              0.8888888888888888,
              "#fdca26"
             ],
             [
              1,
              "#f0f921"
             ]
            ],
            "type": "heatmap"
           }
          ],
          "heatmapgl": [
           {
            "colorbar": {
             "outlinewidth": 0,
             "ticks": ""
            },
            "colorscale": [
             [
              0,
              "#0d0887"
             ],
             [
              0.1111111111111111,
              "#46039f"
             ],
             [
              0.2222222222222222,
              "#7201a8"
             ],
             [
              0.3333333333333333,
              "#9c179e"
             ],
             [
              0.4444444444444444,
              "#bd3786"
             ],
             [
              0.5555555555555556,
              "#d8576b"
             ],
             [
              0.6666666666666666,
              "#ed7953"
             ],
             [
              0.7777777777777778,
              "#fb9f3a"
             ],
             [
              0.8888888888888888,
              "#fdca26"
             ],
             [
              1,
              "#f0f921"
             ]
            ],
            "type": "heatmapgl"
           }
          ],
          "histogram": [
           {
            "marker": {
             "pattern": {
              "fillmode": "overlay",
              "size": 10,
              "solidity": 0.2
             }
            },
            "type": "histogram"
           }
          ],
          "histogram2d": [
           {
            "colorbar": {
             "outlinewidth": 0,
             "ticks": ""
            },
            "colorscale": [
             [
              0,
              "#0d0887"
             ],
             [
              0.1111111111111111,
              "#46039f"
             ],
             [
              0.2222222222222222,
              "#7201a8"
             ],
             [
              0.3333333333333333,
              "#9c179e"
             ],
             [
              0.4444444444444444,
              "#bd3786"
             ],
             [
              0.5555555555555556,
              "#d8576b"
             ],
             [
              0.6666666666666666,
              "#ed7953"
             ],
             [
              0.7777777777777778,
              "#fb9f3a"
             ],
             [
              0.8888888888888888,
              "#fdca26"
             ],
             [
              1,
              "#f0f921"
             ]
            ],
            "type": "histogram2d"
           }
          ],
          "histogram2dcontour": [
           {
            "colorbar": {
             "outlinewidth": 0,
             "ticks": ""
            },
            "colorscale": [
             [
              0,
              "#0d0887"
             ],
             [
              0.1111111111111111,
              "#46039f"
             ],
             [
              0.2222222222222222,
              "#7201a8"
             ],
             [
              0.3333333333333333,
              "#9c179e"
             ],
             [
              0.4444444444444444,
              "#bd3786"
             ],
             [
              0.5555555555555556,
              "#d8576b"
             ],
             [
              0.6666666666666666,
              "#ed7953"
             ],
             [
              0.7777777777777778,
              "#fb9f3a"
             ],
             [
              0.8888888888888888,
              "#fdca26"
             ],
             [
              1,
              "#f0f921"
             ]
            ],
            "type": "histogram2dcontour"
           }
          ],
          "mesh3d": [
           {
            "colorbar": {
             "outlinewidth": 0,
             "ticks": ""
            },
            "type": "mesh3d"
           }
          ],
          "parcoords": [
           {
            "line": {
             "colorbar": {
              "outlinewidth": 0,
              "ticks": ""
             }
            },
            "type": "parcoords"
           }
          ],
          "pie": [
           {
            "automargin": true,
            "type": "pie"
           }
          ],
          "scatter": [
           {
            "fillpattern": {
             "fillmode": "overlay",
             "size": 10,
             "solidity": 0.2
            },
            "type": "scatter"
           }
          ],
          "scatter3d": [
           {
            "line": {
             "colorbar": {
              "outlinewidth": 0,
              "ticks": ""
             }
            },
            "marker": {
             "colorbar": {
              "outlinewidth": 0,
              "ticks": ""
             }
            },
            "type": "scatter3d"
           }
          ],
          "scattercarpet": [
           {
            "marker": {
             "colorbar": {
              "outlinewidth": 0,
              "ticks": ""
             }
            },
            "type": "scattercarpet"
           }
          ],
          "scattergeo": [
           {
            "marker": {
             "colorbar": {
              "outlinewidth": 0,
              "ticks": ""
             }
            },
            "type": "scattergeo"
           }
          ],
          "scattergl": [
           {
            "marker": {
             "colorbar": {
              "outlinewidth": 0,
              "ticks": ""
             }
            },
            "type": "scattergl"
           }
          ],
          "scattermapbox": [
           {
            "marker": {
             "colorbar": {
              "outlinewidth": 0,
              "ticks": ""
             }
            },
            "type": "scattermapbox"
           }
          ],
          "scatterpolar": [
           {
            "marker": {
             "colorbar": {
              "outlinewidth": 0,
              "ticks": ""
             }
            },
            "type": "scatterpolar"
           }
          ],
          "scatterpolargl": [
           {
            "marker": {
             "colorbar": {
              "outlinewidth": 0,
              "ticks": ""
             }
            },
            "type": "scatterpolargl"
           }
          ],
          "scatterternary": [
           {
            "marker": {
             "colorbar": {
              "outlinewidth": 0,
              "ticks": ""
             }
            },
            "type": "scatterternary"
           }
          ],
          "surface": [
           {
            "colorbar": {
             "outlinewidth": 0,
             "ticks": ""
            },
            "colorscale": [
             [
              0,
              "#0d0887"
             ],
             [
              0.1111111111111111,
              "#46039f"
             ],
             [
              0.2222222222222222,
              "#7201a8"
             ],
             [
              0.3333333333333333,
              "#9c179e"
             ],
             [
              0.4444444444444444,
              "#bd3786"
             ],
             [
              0.5555555555555556,
              "#d8576b"
             ],
             [
              0.6666666666666666,
              "#ed7953"
             ],
             [
              0.7777777777777778,
              "#fb9f3a"
             ],
             [
              0.8888888888888888,
              "#fdca26"
             ],
             [
              1,
              "#f0f921"
             ]
            ],
            "type": "surface"
           }
          ],
          "table": [
           {
            "cells": {
             "fill": {
              "color": "#EBF0F8"
             },
             "line": {
              "color": "white"
             }
            },
            "header": {
             "fill": {
              "color": "#C8D4E3"
             },
             "line": {
              "color": "white"
             }
            },
            "type": "table"
           }
          ]
         },
         "layout": {
          "annotationdefaults": {
           "arrowcolor": "#2a3f5f",
           "arrowhead": 0,
           "arrowwidth": 1
          },
          "autotypenumbers": "strict",
          "coloraxis": {
           "colorbar": {
            "outlinewidth": 0,
            "ticks": ""
           }
          },
          "colorscale": {
           "diverging": [
            [
             0,
             "#8e0152"
            ],
            [
             0.1,
             "#c51b7d"
            ],
            [
             0.2,
             "#de77ae"
            ],
            [
             0.3,
             "#f1b6da"
            ],
            [
             0.4,
             "#fde0ef"
            ],
            [
             0.5,
             "#f7f7f7"
            ],
            [
             0.6,
             "#e6f5d0"
            ],
            [
             0.7,
             "#b8e186"
            ],
            [
             0.8,
             "#7fbc41"
            ],
            [
             0.9,
             "#4d9221"
            ],
            [
             1,
             "#276419"
            ]
           ],
           "sequential": [
            [
             0,
             "#0d0887"
            ],
            [
             0.1111111111111111,
             "#46039f"
            ],
            [
             0.2222222222222222,
             "#7201a8"
            ],
            [
             0.3333333333333333,
             "#9c179e"
            ],
            [
             0.4444444444444444,
             "#bd3786"
            ],
            [
             0.5555555555555556,
             "#d8576b"
            ],
            [
             0.6666666666666666,
             "#ed7953"
            ],
            [
             0.7777777777777778,
             "#fb9f3a"
            ],
            [
             0.8888888888888888,
             "#fdca26"
            ],
            [
             1,
             "#f0f921"
            ]
           ],
           "sequentialminus": [
            [
             0,
             "#0d0887"
            ],
            [
             0.1111111111111111,
             "#46039f"
            ],
            [
             0.2222222222222222,
             "#7201a8"
            ],
            [
             0.3333333333333333,
             "#9c179e"
            ],
            [
             0.4444444444444444,
             "#bd3786"
            ],
            [
             0.5555555555555556,
             "#d8576b"
            ],
            [
             0.6666666666666666,
             "#ed7953"
            ],
            [
             0.7777777777777778,
             "#fb9f3a"
            ],
            [
             0.8888888888888888,
             "#fdca26"
            ],
            [
             1,
             "#f0f921"
            ]
           ]
          },
          "colorway": [
           "#636efa",
           "#EF553B",
           "#00cc96",
           "#ab63fa",
           "#FFA15A",
           "#19d3f3",
           "#FF6692",
           "#B6E880",
           "#FF97FF",
           "#FECB52"
          ],
          "font": {
           "color": "#2a3f5f"
          },
          "geo": {
           "bgcolor": "white",
           "lakecolor": "white",
           "landcolor": "#E5ECF6",
           "showlakes": true,
           "showland": true,
           "subunitcolor": "white"
          },
          "hoverlabel": {
           "align": "left"
          },
          "hovermode": "closest",
          "mapbox": {
           "style": "light"
          },
          "paper_bgcolor": "white",
          "plot_bgcolor": "#E5ECF6",
          "polar": {
           "angularaxis": {
            "gridcolor": "white",
            "linecolor": "white",
            "ticks": ""
           },
           "bgcolor": "#E5ECF6",
           "radialaxis": {
            "gridcolor": "white",
            "linecolor": "white",
            "ticks": ""
           }
          },
          "scene": {
           "xaxis": {
            "backgroundcolor": "#E5ECF6",
            "gridcolor": "white",
            "gridwidth": 2,
            "linecolor": "white",
            "showbackground": true,
            "ticks": "",
            "zerolinecolor": "white"
           },
           "yaxis": {
            "backgroundcolor": "#E5ECF6",
            "gridcolor": "white",
            "gridwidth": 2,
            "linecolor": "white",
            "showbackground": true,
            "ticks": "",
            "zerolinecolor": "white"
           },
           "zaxis": {
            "backgroundcolor": "#E5ECF6",
            "gridcolor": "white",
            "gridwidth": 2,
            "linecolor": "white",
            "showbackground": true,
            "ticks": "",
            "zerolinecolor": "white"
           }
          },
          "shapedefaults": {
           "line": {
            "color": "#2a3f5f"
           }
          },
          "ternary": {
           "aaxis": {
            "gridcolor": "white",
            "linecolor": "white",
            "ticks": ""
           },
           "baxis": {
            "gridcolor": "white",
            "linecolor": "white",
            "ticks": ""
           },
           "bgcolor": "#E5ECF6",
           "caxis": {
            "gridcolor": "white",
            "linecolor": "white",
            "ticks": ""
           }
          },
          "title": {
           "x": 0.05
          },
          "xaxis": {
           "automargin": true,
           "gridcolor": "white",
           "linecolor": "white",
           "ticks": "",
           "title": {
            "standoff": 15
           },
           "zerolinecolor": "white",
           "zerolinewidth": 2
          },
          "yaxis": {
           "automargin": true,
           "gridcolor": "white",
           "linecolor": "white",
           "ticks": "",
           "title": {
            "standoff": 15
           },
           "zerolinecolor": "white",
           "zerolinewidth": 2
          }
         }
        }
       }
      }
     },
     "metadata": {},
     "output_type": "display_data"
    }
   ],
   "source": [
    "L0_counts_wk = wk.filter(regex='L0_\\d_count_').columns\n",
    "# L0_counts_wk\n",
    "countdict = {cat : [] for cat in maincats}\n",
    "for filter in [0, 1, 2]:\n",
    "    for col in wk.filter(regex=f\"L0_{filter}_count_\").columns.values:\n",
    "        countdict[col.split('_')[-1]].append(wk[col].sum())\n",
    "\n",
    "for key in countdict.keys():\n",
    "    if len(countdict[key]) < 3:\n",
    "        countdict[key].append(0)\n",
    "    if len(countdict[key]) < 3:\n",
    "        countdict[key].append(0)\n",
    "    \n",
    "import plotly.graph_objects as go\n",
    "animals=list(countdict.keys())\n",
    "\n",
    "fig = go.Figure(data=[\n",
    "    go.Bar(name='2019', x=animals, y=[val[0] for val in countdict.values()]),\n",
    "    go.Bar(name='2020', x=animals, y=[val[1] for val in countdict.values()]),\n",
    "    go.Bar(name='2021', x=animals, y=[val[2] for val in countdict.values()])\n",
    "])\n",
    "# Change the bar mode\n",
    "fig.update_layout(barmode='group')\n",
    "fig.show()"
   ]
  },
  {
   "cell_type": "code",
   "execution_count": 379,
   "metadata": {},
   "outputs": [
    {
     "data": {
      "image/png": "[encoded data removed]",
      "text/plain": [
       "<Figure size 1000x700 with 1 Axes>"
      ]
     },
     "metadata": {},
     "output_type": "display_data"
    }
   ],
   "source": [
    "L0_counts_bu = bu.filter(regex='L1_\\d_count_').columns\n",
    "# L0_counts_wk\n",
    "countdict = {cat : [] for cat in maincats}\n",
    "for filter in [0]:\n",
    "    for col in bu.filter(regex=f\"L1_{filter}_count_\").columns.values:\n",
    "        countdict[col.split('_')[-1]].append(bu[col].sum())\n",
    "\n",
    "fig, ax = plt.subplots(figsize=(10, 7))\n",
    "ax.bar(countdict.keys(), [sum(val) for val in countdict.values()])\n",
    "plt.xticks(rotation=45, ha='right')\n",
    "ax.bar_label(ax.containers[0])\n",
    "\n",
    "# use log scale\n",
    "# plt.yscale('log')\n",
    "plt.tight_layout()\n",
    "plt.savefig('plots/amenitydist_all.png', dpi=100)\n",
    "\n",
    "plt.show()"
   ]
  }
 ],
 "metadata": {
  "kernelspec": {
   "display_name": "scriptie_38",
   "language": "python",
   "name": "python3"
  },
  "language_info": {
   "codemirror_mode": {
    "name": "ipython",
    "version": 3
   },
   "file_extension": ".py",
   "mimetype": "text/x-python",
   "name": "python",
   "nbconvert_exporter": "python",
   "pygments_lexer": "ipython3",
   "version": "3.8.19"
  }
 },
 "nbformat": 4,
 "nbformat_minor": 2
}
