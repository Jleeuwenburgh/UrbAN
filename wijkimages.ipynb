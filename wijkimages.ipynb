{
 "cells": [
  {
   "cell_type": "code",
   "execution_count": 44,
   "metadata": {},
   "outputs": [],
   "source": [
    "import geopandas as gpd\n",
    "import pandas as pd\n",
    "import matplotlib.pyplot as plt\n",
    "import numpy as np\n",
    "from classes import entropycalculator as ec\n",
    "from tqdm import tqdm\n",
    "tqdm.pandas()\n",
    "\n",
    "wijken = gpd.read_parquet('data/wijken/wijken_stats.parquet')\n",
    "buurten = gpd.read_parquet('data/buurten/buurten_stats.parquet')\n"
   ]
  },
  {
   "cell_type": "code",
   "execution_count": 45,
   "metadata": {},
   "outputs": [],
   "source": [
    "L0_filter, L1_filter = ec.getfilter(1)\n",
    "\n",
    "for _, wijk in wijken.iterrows():\n",
    "    try:\n",
    "        wijk = wijken[wijken[\"wijkcode\"] == wijk.wijkcode]\n",
    "        amenities_1 = gpd.read_parquet(f\"data/gm_amenities/amenities_{wijk.gemeentenaam.values[0]}.parquet\")\n",
    "        amenities_1 = amenities_1[amenities_1.within(wijk.geometry.iloc[0])]\n",
    "        amenities_1 = amenities_1[~amenities_1.L0_category.isin(L0_filter)]\n",
    "        if L1_filter:\n",
    "            for key, value in L1_filter.items():\n",
    "                amenities_1 = amenities_1[~((amenities_1.L0_category == key) & (amenities_1.L1_category.isin(value)))]\n",
    "\n",
    "        b1_outer, b1_inner = ec.return_buildings(wijk.geometry.iloc[0])\n",
    "        \n",
    "        fig, ax = plt.subplots(1, 1, figsize=(20, 20))\n",
    "        \n",
    "        b1_outer.plot(ax=ax, color=\"darkgray\", alpha=0.3, linewidth=0.5)\n",
    "        b1_inner.plot(ax=ax, color=\"darkgray\", alpha=0.8, linewidth=0.5)\n",
    "        wijk.boundary.plot(ax=ax, color=\"Black\")\n",
    "        \n",
    "        amenities_1.plot(ax=ax, column=\"L0_category\", markersize=35, legend=True)\n",
    "\n",
    "        ax.axis(\"off\")\n",
    "        plt.savefig(f\"assets/amenity_plots/wijken/{wijk.wijkcode.values[0]}.png\", facecolor=fig.get_facecolor(), bbox_inches=\"tight\", pad_inches=0, dpi=300)\n",
    "        # close the plot\n",
    "        plt.close()\n",
    "    except Exception as e:\n",
    "        print(e)\n",
    "        pass\n",
    "    "
   ]
  },
  {
   "cell_type": "code",
   "execution_count": 49,
   "metadata": {},
   "outputs": [],
   "source": [
    "# L0_filter, L1_filter = ec.getfilter(1)\n",
    "\n",
    "# for _, buurt in buurten.sample(5).iterrows():\n",
    "#     try:\n",
    "#         buurt = buurten[buurten[\"buurtcode\"] == buurt.buurtcode]\n",
    "#         amenities_1 = gpd.read_parquet(f\"data/gm_amenities/amenities_{buurt.gemeentenaam.values[0]}.parquet\")\n",
    "#         amenities_1 = amenities_1[amenities_1.within(buurt.geometry.iloc[0])]\n",
    "#         amenities_1 = amenities_1[~amenities_1.L0_category.isin(L0_filter)]\n",
    "#         if L1_filter:\n",
    "#             for key, value in L1_filter.items():\n",
    "#                 amenities_1 = amenities_1[~((amenities_1.L0_category == key) & (amenities_1.L1_category.isin(value)))]\n",
    "\n",
    "#         b1_outer, b1_inner = ec.return_buildings(buurt.geometry.iloc[0])\n",
    "        \n",
    "#         fig, ax = plt.subplots(1, 1, figsize=(20, 20))\n",
    "        \n",
    "#         b1_outer.plot(ax=ax, color=\"darkgray\", alpha=0.3, linewidth=0.5)\n",
    "#         b1_inner.plot(ax=ax, color=\"darkgray\", alpha=0.8, linewidth=0.5)\n",
    "#         buurt.boundary.plot(ax=ax, color=\"Black\")\n",
    "        \n",
    "#         amenities_1.plot(ax=ax, column=\"L0_category\", markersize=35, legend=True)\n",
    "\n",
    "#         ax.axis(\"off\")\n",
    "#         plt.savefig(f\"assets/amenity_plots/buurten/{buurt.buurtcode.values[0]}.png\", facecolor=fig.get_facecolor(), bbox_inches=\"tight\", pad_inches=0, dpi=300)\n",
    "#         # close the plot\n",
    "#         plt.close()\n",
    "#     except Exception as e:\n",
    "#         print(e)\n",
    "#         pass"
   ]
  }
 ],
 "metadata": {
  "kernelspec": {
   "display_name": "scriptie_38",
   "language": "python",
   "name": "python3"
  },
  "language_info": {
   "codemirror_mode": {
    "name": "ipython",
    "version": 3
   },
   "file_extension": ".py",
   "mimetype": "text/x-python",
   "name": "python",
   "nbconvert_exporter": "python",
   "pygments_lexer": "ipython3",
   "version": "3.8.19"
  }
 },
 "nbformat": 4,
 "nbformat_minor": 2
}
