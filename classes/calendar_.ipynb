{
 "cells": [
  {
   "cell_type": "code",
   "execution_count": 17,
   "metadata": {},
   "outputs": [],
   "source": [
    "import calendar\n",
    "import time\n",
    "import datetime"
   ]
  },
  {
   "cell_type": "code",
   "execution_count": 39,
   "metadata": {},
   "outputs": [
    {
     "data": {
      "text/plain": [
       "(2, 31)"
      ]
     },
     "execution_count": 39,
     "metadata": {},
     "output_type": "execute_result"
    }
   ],
   "source": []
  },
  {
   "cell_type": "code",
   "execution_count": 51,
   "metadata": {},
   "outputs": [
    {
     "data": {
      "text/plain": [
       "[[datetime.date(2024, 4, 29),\n",
       "  datetime.date(2024, 4, 30),\n",
       "  datetime.date(2024, 5, 1),\n",
       "  datetime.date(2024, 5, 2),\n",
       "  datetime.date(2024, 5, 3),\n",
       "  datetime.date(2024, 5, 4),\n",
       "  datetime.date(2024, 5, 5)],\n",
       " [datetime.date(2024, 5, 6),\n",
       "  datetime.date(2024, 5, 7),\n",
       "  datetime.date(2024, 5, 8),\n",
       "  datetime.date(2024, 5, 9),\n",
       "  datetime.date(2024, 5, 10),\n",
       "  datetime.date(2024, 5, 11),\n",
       "  datetime.date(2024, 5, 12)],\n",
       " [datetime.date(2024, 5, 13),\n",
       "  datetime.date(2024, 5, 14),\n",
       "  datetime.date(2024, 5, 15),\n",
       "  datetime.date(2024, 5, 16),\n",
       "  datetime.date(2024, 5, 17),\n",
       "  datetime.date(2024, 5, 18),\n",
       "  datetime.date(2024, 5, 19)],\n",
       " [datetime.date(2024, 5, 20),\n",
       "  datetime.date(2024, 5, 21),\n",
       "  datetime.date(2024, 5, 22),\n",
       "  datetime.date(2024, 5, 23),\n",
       "  datetime.date(2024, 5, 24),\n",
       "  datetime.date(2024, 5, 25),\n",
       "  datetime.date(2024, 5, 26)],\n",
       " [datetime.date(2024, 5, 27),\n",
       "  datetime.date(2024, 5, 28),\n",
       "  datetime.date(2024, 5, 29),\n",
       "  datetime.date(2024, 5, 30),\n",
       "  datetime.date(2024, 5, 31),\n",
       "  datetime.date(2024, 6, 1),\n",
       "  datetime.date(2024, 6, 2)]]"
      ]
     },
     "execution_count": 51,
     "metadata": {},
     "output_type": "execute_result"
    }
   ],
   "source": [
    "now = time.localtime()\n",
    "\n",
    "day, month, year = now.tm_mday, now.tm_mon, now.tm_year\n",
    "\n",
    "c = calendar.Calendar()\n",
    "\n",
    "thismonth = c.monthdatescalendar(year, month)\n",
    "nextmonth = c.monthdatescalendar(year, month+1)\n",
    "thismonth"
   ]
  }
 ],
 "metadata": {
  "kernelspec": {
   "display_name": "scriptie_38",
   "language": "python",
   "name": "python3"
  },
  "language_info": {
   "codemirror_mode": {
    "name": "ipython",
    "version": 3
   },
   "file_extension": ".py",
   "mimetype": "text/x-python",
   "name": "python",
   "nbconvert_exporter": "python",
   "pygments_lexer": "ipython3",
   "version": "3.8.19"
  }
 },
 "nbformat": 4,
 "nbformat_minor": 2
}
